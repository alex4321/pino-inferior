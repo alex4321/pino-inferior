{
 "cells": [
  {
   "cell_type": "code",
   "execution_count": null,
   "metadata": {},
   "outputs": [],
   "source": [
    "#| default_exp api"
   ]
  },
  {
   "cell_type": "code",
   "execution_count": null,
   "metadata": {},
   "outputs": [],
   "source": [
    "#| export\n",
    "from datetime import datetime\n",
    "from typing import List, Union, Dict\n",
    "from pino_inferior.message import Message\n",
    "from pino_inferior.models import aengine, APICommentQuery, APICommentQueryTaskMapping, APITask, \\\n",
    "    APIContextSummarizationQuery, APIContextSummarizationTaskMapping\n",
    "from sqlalchemy.ext.asyncio import AsyncEngine, AsyncSession\n",
    "from sqlalchemy import select\n",
    "import pandas as pd\n",
    "from pydantic.dataclasses import dataclass\n",
    "from fastapi import FastAPI, HTTPException\n",
    "from subprocess import Popen, STDOUT, PIPE\n",
    "from threading import Thread\n",
    "from time import sleep\n",
    "from pydantic import TypeAdapter\n",
    "import requests\n",
    "from pino_inferior.context_extractor import build_context_extractor_chain, \\\n",
    "    PromptMarkupConfig as ContextExtractorPromptMarkupConfig, \\\n",
    "    LengthConfig as ContextExtractorPromptLengthConfig, \\\n",
    "    CONTEXT_INPUT_TEXT, CONTEXT_INPUT_POST_TIME, CONTEXT_INPUT_GOALS, \\\n",
    "    CONTEXT_INPUT_CURRENT_TIME, CONTEXT_INPUT_USERNAME, CONTEXT_INPUT_CHARACTER, \\\n",
    "    CONTEXT_OUTPUT_CONTEXT\n",
    "from langchain.chat_models import ChatOpenAI\n",
    "from pino_inferior.core import OPENAI_API_KEY, OPENAI_AGENT_MODEL, OPENAI_CONTEXT_MODEL, OPENAI_FALLACY_MODEL, \\\n",
    "    VECTOR_DB, VECTOR_DB_PARAMS, MEMORY_PARAMS\n",
    "from pino_inferior.memory import Memory, INPUT_RETRIEVER_QUERY, OUTPUT_RETRIEVER_DOCUMENTS\n",
    "import tiktoken\n",
    "from traceback import format_exc\n",
    "from pino_inferior.agent import TOOLS_PROMPTS_DIR, ToolDescription, RolePlayAgent, \\\n",
    "    PromptMarkupConfig as RPPromptMarkupConfig, \\\n",
    "    LengthConfig as RPLengthMarkupConfig, \\\n",
    "    AGENT_INPUT_TIME, AGENT_INPUT_CONTEXT, AGENT_INPUT_FALLACIES, AGENT_INPUT_HISTORY, AGENT_INPUT_TOOLS, \\\n",
    "    AGENT_INPUT_USERNAME, AGENT_INPUT_CHARACTER, AGENT_INPUT_GOAL, AGENT_INPUT_STYLE_EXAMPLES, \\\n",
    "    AGENT_INPUT_STYLE_DESCRIPTION\n",
    "from pino_inferior.fallacy import build_fallacy_detection_chain, LengthConfig as FallacyLengthConfig, \\\n",
    "    read_fallacies, FALLACIES_FNAME, \\\n",
    "    INPUT_QUERY as INPUT_FALLACY_QUERY, OUTPUT_SHORT_ANSWER as OUTPUT_FALLACY_QUERY\n",
    "import os\n",
    "from langchain.embeddings import OpenAIEmbeddings"
   ]
  },
  {
   "cell_type": "code",
   "execution_count": null,
   "metadata": {},
   "outputs": [],
   "source": [
    "#| export\n",
    "TASK_STATUS_NOT_STARTED = \"not_started\"\n",
    "TASK_STATUS_IN_PROGRESS = \"in_progress\"\n",
    "TASK_STATUS_FINISHED = \"finished\"\n",
    "TASK_STATUS_FAILED = \"failed\""
   ]
  },
  {
   "cell_type": "code",
   "execution_count": null,
   "metadata": {},
   "outputs": [],
   "source": [
    "#| export\n",
    "app = FastAPI()"
   ]
  },
  {
   "cell_type": "code",
   "execution_count": null,
   "metadata": {},
   "outputs": [],
   "source": [
    "#| export\n",
    "@dataclass\n",
    "class User:\n",
    "    name: str\n",
    "    character: str\n",
    "    goals: str\n",
    "\n",
    "\n",
    "@dataclass\n",
    "class UserWithStyle(User):\n",
    "    style_example: str\n",
    "    style_description: str\n",
    "\n",
    "\n",
    "@dataclass\n",
    "class MessageQuery:\n",
    "    author: str\n",
    "    time: str\n",
    "    content: str\n",
    "\n",
    "\n",
    "@dataclass\n",
    "class TaskResponse:\n",
    "    id: int\n",
    "    status: str\n",
    "    response: str\n",
    "\n",
    "\n",
    "@dataclass\n",
    "class CommentRequest:\n",
    "    context: str\n",
    "    history: List[MessageQuery]\n",
    "    user: UserWithStyle"
   ]
  },
  {
   "cell_type": "markdown",
   "metadata": {},
   "source": [
    "## API requests"
   ]
  },
  {
   "cell_type": "markdown",
   "metadata": {},
   "source": [
    "### Thread commenting task creation query"
   ]
  },
  {
   "cell_type": "code",
   "execution_count": null,
   "metadata": {},
   "outputs": [],
   "source": [
    "#| export\n",
    "async def _comment_query(engine: AsyncEngine,\n",
    "                         time: datetime,\n",
    "                         context: str,\n",
    "                         history: List[Message],\n",
    "                         user_name: str,\n",
    "                         user_character: str,\n",
    "                         user_goals: str,\n",
    "                         user_style_example: str,\n",
    "                         user_style_description: str) -> TaskResponse:\n",
    "    async with AsyncSession(engine) as session:\n",
    "        async with session.begin():\n",
    "            query = APICommentQuery(\n",
    "                time=time,\n",
    "                context=context,\n",
    "                history=[\n",
    "                    message.to_dict()\n",
    "                    for message in history\n",
    "                ],\n",
    "                user_name=user_name,\n",
    "                user_character=user_character,\n",
    "                user_goals=user_goals,\n",
    "                user_style_example=user_style_example,\n",
    "                user_style_description=user_style_description,\n",
    "            )\n",
    "            session.add(query)\n",
    "            task = APITask(\n",
    "                status=TASK_STATUS_NOT_STARTED,\n",
    "                response=\"\",\n",
    "                created_at=time,\n",
    "                updated_at=time,\n",
    "            )\n",
    "            session.add(task)\n",
    "            await session.flush()\n",
    "            await session.refresh(query)\n",
    "            await session.refresh(task)\n",
    "            mapping = APICommentQueryTaskMapping(\n",
    "                comment_id=query.query_id,\n",
    "                task_id=task.task_id,\n",
    "            )\n",
    "            session.add(mapping)\n",
    "            return TaskResponse(task.task_id, task.status, task.response)"
   ]
  },
  {
   "cell_type": "code",
   "execution_count": null,
   "metadata": {},
   "outputs": [],
   "source": [
    "#| export\n",
    "@app.post(\"/comment\")\n",
    "async def api_comment_query(request: CommentRequest) -> TaskResponse:\n",
    "    return await _comment_query(\n",
    "        aengine,\n",
    "        time=datetime.now(),\n",
    "        context=request.context,\n",
    "        history=[Message.from_dict(item.__dict__) for item in request.history],\n",
    "        user_name=request.user.name,\n",
    "        user_character=request.user.character,\n",
    "        user_goals=request.user.goals,\n",
    "        user_style_example=request.user.style_example,\n",
    "        user_style_description=request.user.style_description,\n",
    "    )"
   ]
  },
  {
   "cell_type": "markdown",
   "metadata": {},
   "source": [
    "### Context extraction task creation query"
   ]
  },
  {
   "cell_type": "code",
   "execution_count": null,
   "metadata": {},
   "outputs": [],
   "source": [
    "#| export\n",
    "async def _context_query(engine: AsyncEngine,\n",
    "                         time: datetime,\n",
    "                         post_time: datetime,\n",
    "                         text: str,\n",
    "                         user_name: str,\n",
    "                         user_character: str,\n",
    "                         user_goals: str) -> TaskResponse:\n",
    "    async with AsyncSession(engine) as session:\n",
    "        async with session.begin():\n",
    "            query = APIContextSummarizationQuery(\n",
    "                text=text,\n",
    "                time=time,\n",
    "                post_time=post_time,\n",
    "                user_name=user_name,\n",
    "                user_character=user_character,\n",
    "                user_goals=user_goals,\n",
    "            )\n",
    "            session.add(query)\n",
    "            task = APITask(\n",
    "                status=TASK_STATUS_NOT_STARTED,\n",
    "                response=\"\",\n",
    "                created_at=time,\n",
    "                updated_at=time,\n",
    "            )\n",
    "            session.add(task)\n",
    "            await session.flush()\n",
    "            await session.refresh(task)\n",
    "            await session.refresh(query)\n",
    "            mapping = APIContextSummarizationTaskMapping(\n",
    "                context_id=query.query_id,\n",
    "                task_id=task.task_id,\n",
    "            )\n",
    "            session.add(mapping)\n",
    "            return TaskResponse(task.task_id, task.status, task.response)"
   ]
  },
  {
   "cell_type": "code",
   "execution_count": null,
   "metadata": {},
   "outputs": [],
   "source": [
    "#| export\n",
    "@dataclass\n",
    "class Post:\n",
    "    text: str\n",
    "    time: str\n",
    "\n",
    "\n",
    "@dataclass\n",
    "class ContextRequest:\n",
    "    post: Post\n",
    "    user: User"
   ]
  },
  {
   "cell_type": "code",
   "execution_count": null,
   "metadata": {},
   "outputs": [],
   "source": [
    "#| export\n",
    "@app.post(\"/context\")\n",
    "async def api_context_query(request: ContextRequest) -> TaskResponse:\n",
    "    return await _context_query(\n",
    "        aengine,\n",
    "        datetime.now(),\n",
    "        pd.to_datetime(request.post.time),\n",
    "        request.post.text,\n",
    "        request.user.name,\n",
    "        request.user.character,\n",
    "        request.user.goals,\n",
    "    )"
   ]
  },
  {
   "cell_type": "markdown",
   "metadata": {},
   "source": [
    "### Status retrieving query"
   ]
  },
  {
   "cell_type": "code",
   "execution_count": null,
   "metadata": {},
   "outputs": [],
   "source": [
    "#| export\n",
    "@app.get(\"/task-status\")\n",
    "async def api_task_status(task_id: int) -> TaskResponse:\n",
    "    async with AsyncSession(aengine) as session:\n",
    "        async with session.begin():\n",
    "            query = select(APITask).filter(APITask.task_id == task_id)\n",
    "            query_result = await session.execute(query)\n",
    "            task = query_result.scalar()\n",
    "            if not task:\n",
    "                raise HTTPException(404)\n",
    "            return TaskResponse(\n",
    "                task.task_id,\n",
    "                task.status,\n",
    "                task.response\n",
    "            )"
   ]
  },
  {
   "cell_type": "markdown",
   "metadata": {},
   "source": [
    "### Get tasks for execution"
   ]
  },
  {
   "cell_type": "code",
   "execution_count": null,
   "metadata": {},
   "outputs": [],
   "source": [
    "#| export\n",
    "@dataclass\n",
    "class ContextRequestWithTime(ContextRequest):\n",
    "    time: str\n",
    "\n",
    "\n",
    "@dataclass\n",
    "class CommentRequestWithTime(CommentRequest):\n",
    "    time: str\n",
    "\n",
    "\n",
    "@dataclass\n",
    "class TaskForExecution:\n",
    "    task_id: int\n",
    "    task_type: str\n",
    "    task_objects: Dict[str, Union[ContextRequestWithTime, CommentRequestWithTime]]"
   ]
  },
  {
   "cell_type": "code",
   "execution_count": null,
   "metadata": {},
   "outputs": [],
   "source": [
    "#| export\n",
    "@app.get(\"/tasks-for-execution\")\n",
    "async def api_tasks_for_execution(count: int) -> List[TaskForExecution]:\n",
    "    async with AsyncSession(aengine) as session:\n",
    "        async with session.begin():\n",
    "            tasks_to_mark_query = select(APITask) \\\n",
    "                .filter(APITask.status == TASK_STATUS_NOT_STARTED) \\\n",
    "                .order_by(APITask.created_at) \\\n",
    "                .limit(count)\n",
    "            tasks_to_mark_response = await session.execute(tasks_to_mark_query)\n",
    "            tasks_to_mark = tasks_to_mark_response.scalars().all()\n",
    "            for task in tasks_to_mark:\n",
    "                task.status = TASK_STATUS_IN_PROGRESS\n",
    "            \n",
    "            task_ids = {\n",
    "                task.task_id\n",
    "                for task in tasks_to_mark\n",
    "            }\n",
    "            await session.commit()\n",
    "        async with session.begin():\n",
    "            result_tasks = []\n",
    "            comment_query = select(APICommentQuery, APICommentQueryTaskMapping.task_id) \\\n",
    "                .join(APICommentQueryTaskMapping, APICommentQueryTaskMapping.comment_id == APICommentQuery.query_id) \\\n",
    "                .filter(APICommentQueryTaskMapping.task_id.in_(task_ids))\n",
    "            comment_query_response = await session.execute(comment_query)\n",
    "            comment_request: APICommentQuery\n",
    "            task_id: int\n",
    "            for comment_request, task_id in comment_query_response.all():\n",
    "                result_tasks.append(TaskForExecution(\n",
    "                    task_id=task_id,\n",
    "                    task_type=\"comment\",\n",
    "                    task_objects={\n",
    "                        \"comment\": CommentRequestWithTime(\n",
    "                            context=comment_request.context,\n",
    "                            history=comment_request.history,\n",
    "                            user=UserWithStyle(\n",
    "                                name=comment_request.user_name,\n",
    "                                character=comment_request.user_character,\n",
    "                                goals=comment_request.user_goals,\n",
    "                                style_example=comment_request.user_style_example,\n",
    "                                style_description=comment_request.user_style_description,\n",
    "                            ),\n",
    "                            time=str(comment_request.time),\n",
    "                        )\n",
    "                    }\n",
    "                ))\n",
    "            context_query = select(APIContextSummarizationQuery, APIContextSummarizationTaskMapping.task_id) \\\n",
    "                .join(APIContextSummarizationTaskMapping, APIContextSummarizationTaskMapping.context_id == APIContextSummarizationQuery.query_id) \\\n",
    "                .filter(APIContextSummarizationTaskMapping.task_id.in_(task_ids))\n",
    "            context_query_response = await session.execute(context_query)\n",
    "            context_request: APIContextSummarizationQuery\n",
    "            task_id: int\n",
    "            for context_request, task_id in context_query_response.all():\n",
    "                result_tasks.append(TaskForExecution(\n",
    "                    task_id=task_id,\n",
    "                    task_type=\"context\",\n",
    "                    task_objects={\n",
    "                        \"context\": ContextRequestWithTime(\n",
    "                            post=Post(\n",
    "                                text=context_request.text,\n",
    "                                time=str(context_request.post_time),\n",
    "                            ),\n",
    "                            user=User(\n",
    "                                name=context_request.user_name,\n",
    "                                character=context_request.user_character,\n",
    "                                goals=context_request.user_goals,\n",
    "                            ),\n",
    "                            time=str(context_request.time),\n",
    "                        )\n",
    "                    }\n",
    "                ))\n",
    "            return result_tasks"
   ]
  },
  {
   "cell_type": "markdown",
   "metadata": {},
   "source": [
    "### Set task statuses"
   ]
  },
  {
   "cell_type": "code",
   "execution_count": null,
   "metadata": {},
   "outputs": [],
   "source": [
    "#| export\n",
    "@app.post(\"/task-status-set\")\n",
    "async def task_status_set(request: List[TaskResponse]) -> None:\n",
    "    async with AsyncSession(aengine) as session:\n",
    "        async with session.begin():\n",
    "            update_time = datetime.now()\n",
    "            task_id2task = {\n",
    "                task.id: task\n",
    "                for task in request\n",
    "            }\n",
    "            tasks_to_mark_query = select(APITask) \\\n",
    "                .filter(APITask.task_id.in_(task_id2task.keys()))\n",
    "            task_to_mark_query_response = await session.execute(tasks_to_mark_query)\n",
    "            task: APITask\n",
    "            for task, in task_to_mark_query_response.all():\n",
    "                print(\"TASK CLASS\", task.__class__)\n",
    "                task.updated_at = update_time\n",
    "                task.response = task_id2task[task.task_id].response\n",
    "                task.status = task_id2task[task.task_id].status"
   ]
  },
  {
   "cell_type": "markdown",
   "metadata": {},
   "source": [
    "### Execute tasks"
   ]
  },
  {
   "cell_type": "code",
   "execution_count": null,
   "metadata": {},
   "outputs": [],
   "source": [
    "#| export\n",
    "def _parse_task(data: dict) -> TaskForExecution:\n",
    "    return TypeAdapter(TaskForExecution).validate_python(data)\n",
    "\n",
    "\n",
    "def _parse_tasks(data: List[dict]) -> List[TaskForExecution]:\n",
    "    return TypeAdapter(List[TaskForExecution]).validate_python(data)"
   ]
  },
  {
   "cell_type": "code",
   "execution_count": null,
   "metadata": {},
   "outputs": [],
   "source": [
    "#| export\n",
    "INTERMEDIATE_TASK_ID = \"task_id\""
   ]
  },
  {
   "cell_type": "code",
   "execution_count": null,
   "metadata": {},
   "outputs": [],
   "source": [
    "agent_model = ChatOpenAI(openai_api_key=OPENAI_API_KEY, model_name=OPENAI_AGENT_MODEL)\n",
    "agent_encoding = tiktoken.encoding_for_model(agent_model.model_name)\n",
    "fallacy_model = ChatOpenAI(openai_api_key=OPENAI_API_KEY, model_name=OPENAI_FALLACY_MODEL)\n",
    "fallacy_encoding = tiktoken.encoding_for_model(fallacy_model.model_name)\n",
    "context_model = ChatOpenAI(openai_api_key=OPENAI_API_KEY, model_name=OPENAI_CONTEXT_MODEL)\n",
    "context_encoding = tiktoken.encoding_for_model(context_model.model_name)"
   ]
  },
  {
   "cell_type": "code",
   "execution_count": null,
   "metadata": {},
   "outputs": [],
   "source": [
    "context_extractor = build_context_extractor_chain(\n",
    "    context_model,\n",
    "    lengths=ContextExtractorPromptLengthConfig(\n",
    "        cut_function=lambda text, length: context_encoding.decode(context_encoding.encode(text)[:length]),\n",
    "        length_function=lambda text: len(context_encoding.encode(text)),\n",
    "        max_goals_length=512,\n",
    "        max_name_length=10,\n",
    "        max_character_length=512,\n",
    "        max_post_length=2048,\n",
    "    ),\n",
    "    prompts=ContextExtractorPromptMarkupConfig(\n",
    "        tags_open_sequence=\"[tags]\",\n",
    "        tags_close_sequence=\"[/tags]\",\n",
    "        summary_open_sequence=\"[summary]\",\n",
    "        summary_close_sequence=\"[/summary]\",\n",
    "    )\n",
    ")"
   ]
  },
  {
   "cell_type": "code",
   "execution_count": null,
   "metadata": {},
   "outputs": [],
   "source": [
    "def _read_file(fname: str) -> str:\n",
    "    with open(fname, \"r\", encoding=\"utf-8\") as src:\n",
    "        return src.read()"
   ]
  },
  {
   "cell_type": "code",
   "execution_count": null,
   "metadata": {},
   "outputs": [],
   "source": [
    "fallacy_length_config = FallacyLengthConfig(\n",
    "    length_function=lambda text: len(fallacy_encoding.encode(text)),\n",
    "    max_messages_length=2048,\n",
    "    max_fallacies_length=4096,\n",
    ")\n",
    "fallacy_tool = (\n",
    "    ToolDescription(\n",
    "        name=\"fallacy\",\n",
    "        description=_read_file(os.path.join(TOOLS_PROMPTS_DIR, \"fallacy.txt\")),\n",
    "        input_key=INPUT_FALLACY_QUERY,\n",
    "        output_key=OUTPUT_FALLACY_QUERY,\n",
    "    ),\n",
    "    build_fallacy_detection_chain(fallacy_model, fallacy_length_config),\n",
    ")"
   ]
  },
  {
   "cell_type": "code",
   "execution_count": null,
   "metadata": {},
   "outputs": [
    {
     "data": {
      "text/plain": [
       "(ToolDescription(name='memory', description='External memory tool. \\nYour training data is limited, but you can use it.\\nQuery should be exact since memory will only see it, not the surrounding context.\\nSometimes memory might return non-relevant results (like sudden associations outside the discussed context).\\nReturns retrieved documents.\\nCall it this way: [memory]%Your query[/memory][call]', input_key='query', output_key='documents_text'),\n",
       " TransformChain(input_variables=['query'], output_variables=['documents'], transform_cb=<function Memory.build_retriever_chain.<locals>._retrieve_documents>, atransform_cb=<function Memory.build_retriever_chain.<locals>._aretrieve_documents>)\n",
       " | TransformChain(input_variables=['documents'], output_variables=['documents_text'], transform_cb=<function Memory.build_retriever_chain.<locals>._stringify_documents>, atransform_cb=<function Memory.build_retriever_chain.<locals>._astringify_documents>))"
      ]
     },
     "execution_count": null,
     "metadata": {},
     "output_type": "execute_result"
    }
   ],
   "source": [
    "sentence_encoder = OpenAIEmbeddings(\n",
    "    openai_api_key=OPENAI_API_KEY,\n",
    "    model=\"text-embedding-ada-002\",\n",
    ")\n",
    "memory_container = Memory(\n",
    "    engine=aengine,\n",
    "    vector_db=VECTOR_DB(\n",
    "        embedding_function=sentence_encoder,\n",
    "        **VECTOR_DB_PARAMS\n",
    "    ),\n",
    "    **MEMORY_PARAMS\n",
    ")\n",
    "memory_tool = (\n",
    "    ToolDescription(\n",
    "        name=\"memory\",\n",
    "        description=_read_file(os.path.join(TOOLS_PROMPTS_DIR, \"memory.txt\")),\n",
    "        input_key=INPUT_RETRIEVER_QUERY,\n",
    "        output_key=OUTPUT_RETRIEVER_DOCUMENTS,\n",
    "    ),\n",
    "    memory_container.build_retriever_chain()\n",
    ")\n",
    "memory_tool"
   ]
  },
  {
   "cell_type": "code",
   "execution_count": null,
   "metadata": {},
   "outputs": [],
   "source": [
    "agent = RolePlayAgent(\n",
    "    tools=[memory_tool, fallacy_tool],\n",
    "    lengths=RPLengthMarkupConfig(\n",
    "        cut_function=lambda text, length: agent_encoding.decode(agent_encoding.encode(text)[:length]),\n",
    "        length_function=lambda text: len(agent_encoding.encode(text)),\n",
    "    ),\n",
    "    prompt_markup=RPPromptMarkupConfig(),\n",
    "    llm=agent_model,\n",
    "    max_iter=5,\n",
    ")"
   ]
  },
  {
   "cell_type": "code",
   "execution_count": null,
   "metadata": {},
   "outputs": [],
   "source": [
    "async def _execute_context_extractor_task(task: TaskForExecution) -> str:\n",
    "    assert task.task_type == \"context\"\n",
    "    request: ContextRequestWithTime = task.task_objects[task.task_type]\n",
    "    inputs = {\n",
    "        INTERMEDIATE_TASK_ID: task.task_id,\n",
    "        CONTEXT_INPUT_TEXT: request.post.text,\n",
    "        CONTEXT_INPUT_POST_TIME: pd.to_datetime(request.post.time),\n",
    "        CONTEXT_INPUT_GOALS: request.user.goals,\n",
    "        CONTEXT_INPUT_CURRENT_TIME: pd.to_datetime(request.time),\n",
    "        CONTEXT_INPUT_USERNAME: request.user.name,\n",
    "        CONTEXT_INPUT_CHARACTER: request.user.character\n",
    "    }\n",
    "    response = await context_extractor.ainvoke(inputs)\n",
    "    return response[CONTEXT_OUTPUT_CONTEXT]"
   ]
  },
  {
   "cell_type": "code",
   "execution_count": null,
   "metadata": {},
   "outputs": [],
   "source": [
    "async def _execute_comment_task(task: TaskForExecution) -> str:\n",
    "    assert task.task_type == \"comment\"\n",
    "    request: CommentRequestWithTime = task.task_objects[task.task_type]\n",
    "    inputs = {\n",
    "        AGENT_INPUT_TIME: pd.to_datetime(request.time),\n",
    "        AGENT_INPUT_CONTEXT: request.context,\n",
    "        AGENT_INPUT_FALLACIES: read_fallacies(FALLACIES_FNAME),\n",
    "        AGENT_INPUT_HISTORY: [\n",
    "            Message(message.author, pd.to_datetime(message.time), message.content)\n",
    "            for message in request.history\n",
    "        ],\n",
    "        AGENT_INPUT_TOOLS: [\n",
    "            fallacy_tool,\n",
    "            memory_tool,\n",
    "        ],\n",
    "        AGENT_INPUT_USERNAME: request.user.name,\n",
    "        AGENT_INPUT_CHARACTER: request.user.character,\n",
    "        AGENT_INPUT_GOAL: request.user.goals,\n",
    "        AGENT_INPUT_STYLE_EXAMPLES: request.user.style_example.split(\"\\n\\n\"),\n",
    "        AGENT_INPUT_STYLE_DESCRIPTION: request.user.style_description\n",
    "    }\n",
    "    return await agent.arun(inputs)"
   ]
  },
  {
   "cell_type": "code",
   "execution_count": null,
   "metadata": {},
   "outputs": [],
   "source": [
    "async def _execute_task(task: TaskForExecution) -> str:\n",
    "    types = {\"context\": _execute_context_extractor_task,\n",
    "             \"comment\": _execute_comment_task}\n",
    "    assert task.task_type in types\n",
    "    return await types[task.task_type](task)"
   ]
  },
  {
   "cell_type": "code",
   "execution_count": null,
   "metadata": {},
   "outputs": [],
   "source": [
    "async def _process_task(task: TaskForExecution) -> TaskResponse:\n",
    "    try:\n",
    "        response = await _execute_task(task)\n",
    "        status = TASK_STATUS_FINISHED\n",
    "    except:\n",
    "        response = format_exc()\n",
    "        status = TASK_STATUS_FAILED\n",
    "    return TaskResponse(task.task_id, status, response)"
   ]
  },
  {
   "cell_type": "code",
   "execution_count": null,
   "metadata": {},
   "outputs": [],
   "source": [
    "async def _process_tasks(tasks: List[TaskForExecution]) -> List[TaskResponse]:\n",
    "    result = []\n",
    "    for task in tasks:\n",
    "        result.append(await _process_task(task))\n",
    "    return result"
   ]
  },
  {
   "cell_type": "markdown",
   "metadata": {},
   "source": [
    "## Examples"
   ]
  },
  {
   "cell_type": "markdown",
   "metadata": {},
   "source": [
    "### Run server in background"
   ]
  },
  {
   "cell_type": "code",
   "execution_count": null,
   "metadata": {},
   "outputs": [],
   "source": [
    "import nbdev; nbdev.nbdev_export()"
   ]
  },
  {
   "cell_type": "code",
   "execution_count": null,
   "metadata": {},
   "outputs": [],
   "source": [
    "def _run_server(log_file: str) -> None:\n",
    "    startup_complete = False\n",
    "\n",
    "    def _thread():\n",
    "        nonlocal startup_complete\n",
    "        command = [\"uvicorn\", \"pino_inferior.api:app\", \"--reload\", \"--host\", \"0.0.0.0\", \"--port\", \"8080\"]\n",
    "        process = Popen(command, stdout=PIPE, stderr=STDOUT)\n",
    "        with open(log_file, \"wb\") as log:\n",
    "            while process.poll() is None:\n",
    "                line = process.stdout.readline()\n",
    "                if b\"Application startup complete.\" in line:\n",
    "                    startup_complete = True\n",
    "                log.write(line)\n",
    "                log.flush()\n",
    "\n",
    "    Thread(target=_thread).start()\n",
    "    while not startup_complete:\n",
    "        sleep(0.1)\n",
    "\n",
    "\n",
    "_run_server(\"09_api_methods_server.log\")"
   ]
  },
  {
   "cell_type": "markdown",
   "metadata": {},
   "source": [
    "### Create context extraction task"
   ]
  },
  {
   "cell_type": "code",
   "execution_count": null,
   "metadata": {},
   "outputs": [],
   "source": [
    "post_text = \"\"\"Будет ли мобилизация осенью?⁠⁠\n",
    "Самый, наверное, волнующий россиян вопрос на сегодняшний день, обросший обильными слухами вплоть до вброса конкретных дат. Хочу его разобрать и озвучить свои соображения на тему, будет ли мобилизация, если да – то когда.\n",
    "\n",
    "Мой канал в ТГ: https://t.me/artjockey\n",
    "\n",
    "Напомню старым и новым читателям, что у меня нет никаких инсайдов, я просто озвучу свое мнение и постараюсь его обосновать. С чем можно согласиться или не согласиться.\n",
    "\n",
    "Будет ли мобилизация осенью? Политика, Спецоперация, Война на Украине, Министерство обороны, Мобилизация, Война, Частичная мобилизация, Россия, Призыв, Длиннопост\n",
    "Первая волна мобилизации\n",
    "Она началась прошлой осенью и с 21 сентября по 31 октября было призвано 318 тысяч официально. При этом, указ о мобилизации юридически продолжает действовать. То есть, формально, новую волну власть может не объявлять, а просто, опираясь на действующий указ, начать новый призыв.\n",
    "\n",
    "Для чего нужна была мобилизация? Численность группировки вторжения ВС РФ была около 200 тысяч человек (с учетом войск еще независимых ДЛНР). Украинская армия мирного времени – примерно 260 тысяч человек. То есть, силы были примерно равны, даже в пользу ВС РФ, потому что у ВСУ это не вся сухопутная армия, а с учетом всех тыловых служб, штаба, пограничников и т.д.\n",
    "\n",
    "Но сразу после начала войны, украинское правительство объявляет всеобщую мобилизацию, вполне логичный и правильный шаг. Численность украинской армии быстро увеличивается и к октябрю достигает 700 тысяч человек, по словам украинского министра обороны. Конечно, далеко не все эти люди находились на передовой, то есть, не являлись «штыками». Но перекос в численности воюющих армий уже очевиден и было понятно, что продолжать завоевательную войну имея в 2-3 раза меньше людей невозможно.\n",
    "\n",
    "Частичная мобилизация позволила ВС РФ достичь примерного паритета с ВСУ по численности и продолжить войну в условно равном соотношении сил. Даже если перекос в чью-то сторону сохранялся, он был уже не в разы, а в десятки процентов, не более. Это позволило и равномерно укрепить фронт, чтобы не допустить повторения сценария наступления ВСУ на Изюм.\n",
    "\n",
    "Но всеобщая мобилизация на территории Украины не прекратилась, украинская армия продолжила пополняться, зимой стали известны и планы Киева провести наступление в 2023-м году. В таких условиях уже было понятно, что вторая волна – неизбежна. ВС РФ необходимо, хотя бы, поддерживать паритет по численности. Многие источники писали, что мобилизация будет проведена в начале года, чтобы иметь обученные резервы к концу весны-лету. Я тоже думал, что мобилизацию объявят.\n",
    "\n",
    "Стратегия Кремля\n",
    "Как мы знаем, вторую волну мобилизации не объявили и связано это с курсом руководства России на изоляцию войны от основной массы российского общества. Я не сомневаюсь, что подготовка действительно велась, но в какой-то момент планы поменялись.\n",
    "\n",
    "Для среднего россиянина война идет и, по этой стратегии, должна идти где-то в телевизоре, потому и не война, а СВО. Да, есть некий процент людей, кого затронула мобилизация в первую волну, но их, относительно общего населения страны, немного.\n",
    "\n",
    "Также временно вопрос пополнения закрыл собой Вагнер, через который, как мы теперь знаем, прошло 78 тысяч человек, что довольно много. Это где-то 25% от частично мобилизованных.\n",
    "\n",
    "Но общая проблема с поддержкой паритета по численности личного состава никуда не делась и ее нужно было как-то решать. Решение было озвучено весной, вместо второй волны мобилизации предполагается до конца года набрать 400 тысяч людей на контрактную службу. Вот эти новые контрактники и должны заменить собой «вторую волну».\n",
    "\n",
    "Скрытая мобилизация\n",
    "Есть такое понятие, как скрытая мобилизация. То есть, набор в войска не обязательно ведется с официальными объявлениями по телевизору, фанфарами и всесторонним освещением в СМИ.\n",
    "\n",
    "При этом, не стоит понимать термин настолько буквально, что это некие тайные мероприятия, о которых никто не должен узнать. Совсем не обязательно. Это просто некий общий комплекс мер, призванный замаскировать или скрыть отдельные детали процесса или же прикрыть его юридически. Так, например, официальная мобилизация государства может являться поводом для объявления войны, а, скажем, увеличение численности пограничных войск и парамилитарных образований – таким поводом уже не будет.\n",
    "\n",
    "Также, скрытая мобилизация может скрывать не сам процесс, а его детали. При частичной мобилизации все знали и сколько людей будет призвано, и куда они будут направлены. При скрытой мобилизации такие подробности могут не озвучиваться, хотя сам проходящий процесс и является достоянием общественности.\n",
    "\n",
    "Вот нынешняя стратегия российского руководства и является проведением скрытой мобилизацией. Официально, контрактники набираются не для участия в СВО, а согласно стратегическому плану развития армии, которое не так давно было подписано Путиным и предусматривает увеличение численности ВС РФ и вне контекста войны.\n",
    "\n",
    "Методы скрытой мобилизации\n",
    "Сейчас в РФ задействовано три основных источника пополнения личного состава.\n",
    "\n",
    "Во-первых, это прямой поток добровольцев, заключающих контракты на службу в рядах армии. Жители России, думаю, видели и агрессивную рекламу службы, кто-то сталкивался с агитаторами на работе, а кто-то даже получал повестку для уточнения данных в военкомат, где его уговаривали заключить контракт.\n",
    "\n",
    "Во-вторых, это перевод на контракт срочников. Каждый срочник может заключить контракт, который пойдет в зачет срочки.\n",
    "\n",
    "В-третьих, это продолжающийся набор в тюрьмах, в основном, в отряды Шторм вместо Вагнера.\n",
    "\n",
    "Все эти три метода позволяют увеличить численность личного состава в рядах вооруженных сил, и они все задействованы. Но есть еще один метод, это уже мобилизованные, которым предлагают заключить контракт. Таки люди тоже идут в статистику, но вот на общее число солдат они не влияют.\n",
    "\n",
    "Есть и менее очевидные способы, вот новость прям с Пикабу. Когда в ходе недавних массовых рейдов среди мест компактного проживания граждан, недавно получивших паспорт, выявляли тех, кто еще не стал на учет в военкомат и помогали им это сделать прям с доставкой к месту оформления документов.\n",
    "\n",
    "Успехи скрытой мобилизации\n",
    "Вот теперь о цифрах, как ни странно, они нам известны. Бывший президент, Дмитрий Медведев, который как раз и курирует этот процесс, озвучил, что с 1 апреля по август на контракт записалась 231 тысяча человек.\n",
    "\n",
    "Это довольно много и почти догоняет общее число мобилизованных в первую волну. То есть, по факту, перекрывает потребности во второй волне мобилизации. И да, наверняка, люди сразу скажут о вот тех самых приписках, когда уже мобилизованных переводят на контракт, учитывают в статистике, но фактическое положение дел не меняется. К сожалению, мы не знаем, сколько таких людей среди этих 231 тысячи есть.\n",
    "\n",
    "Но у нас есть взгляд и с другой стороны. Скрытую мобилизацию в РФ совсем недавно комментировал представитель ГУР Украины, он подтвердил, что «разными методами» в месяц мобилизуется 20 тысяч человек. То есть, даже с учетом всех манипуляций, поток новобранцев в зону СВО достаточно большой, в течение года это и будут те самые примерно 300 тысяч человек, которые были в первой волне.\n",
    "\n",
    "Промежуточные выводы\n",
    "Вторая волна мобилизации в России уже идет и идет достаточно успешно. Даже при мобилизации 20 тысяч человек в месяц, это в общем позволяет руководству РФ отказаться от проведения отдельной второй волны частичной мобилизации и закрыть все потребности за счет добровольцев (условно, все мы понимаем, что часть людей заключает контракт добровольно-принудительно).\n",
    "\n",
    "Также вспоминаем, что я написал в начале – указ о частичной мобилизации юридически еще действует. Можно предположить, что при недостаточном потоке новобранцев будет проведена не вторая волна по образу первой, а еще включен еще один механизм. Начнут рассылать повестки ежемесячно в небольшом количестве, уже прямо призывая не 300 тысяч человек за раз, а, скажем, по 10 тысяч человек в месяц.\n",
    "\n",
    "Именно так происходит на Украине. Процесс рассылки и раздачи повесток идет постоянно без каких-либо волн. Повестка – это вызов на «уточнение данных», где уже вместо нее вручают мобилизационное предписание, по украинской практике, даже не выпуская из военкомата. И напомню, что в России рассылаются похожие повестки и сейчас, только с целью уговорить заключить контракт, но при необходимости, просто начнут сразу давать предписания.\n",
    "\n",
    "Юридические изменения\n",
    "Между тем, Госдума ввела ряд изменений в законодательство, которые тоже серьезно всколыхнули общество. Во-первых, это увеличение возраста запаса, во-вторых, увеличение возраста призыва на срочную службу, в-третьих, штрафы для уклонистов.\n",
    "\n",
    "Из этих изменений делается вывод, что мобилизация готовится осенью. Но это не совсем так, первые два пункта точно никак не могут повлиять на осеннюю мобилизацию. Возраст учета вообще вводится поэтапно, каждый год на один год. А возраст призыва увеличивается с 2024-го, но не с 2023-го года. На мой взгляд, это не подготовка к СВО вообще, а подготовка к вероятной эскалации конфликта. Я уже как-то говорил, что мы, возможно, находимся в 1938-м или в 1913-м году, просто этого еще не знаем. А лет через 20 будем спорить, является ли Российско-Украинская война отдельным конфликтом или это один из театров действий Третьей мировой.\n",
    "\n",
    "Остается третий пункт, ужесточение штрафов для уклонистов. Кто-то это воспринял как легитимизацию взятки за уклонение, но ведь штраф не освобождает от обязанности явиться в военкомат по повестке.\n",
    "\n",
    "Я считаю, что тут смысл в другом. Чуть выше я писал, что один из источников пополнения личного состава в зоне СВО – это срочники. И здесь тоже есть изменения, срочник сможет заключить контракт через месяц после призыва, а раньше мог только через три.\n",
    "\n",
    "И вот эти все изменения направлены на то, чтобы упростить осенний призыв на срочную служба, а уже на срочке начнут обрабатывать призывников на тему подписания контракта. И здесь, конечно, к кому-то могут применить кнут, кто-то поведется на пряник в виде, в первую очередь, зарплаты. Штраф этому только поможет, ведь штрафник может записаться на контракт и с нескольких зарплат с ним расплатиться.\n",
    "\n",
    "Есть и еще одно не самое заметное изменение. С недавнего времени, иностранцы могут заключить контракт с ВС РФ на один год, а затем получить гражданство по упрощенной процедуре.\n",
    "\n",
    "Логические «против»\n",
    "Кроме того, что реальные и юридические действия руководства России нацелены на то, чтобы избежать проведения второй волны частичной мобилизации, есть еще и объективные причины, почему ее не стоит проводить, во всяком случае, сейчас.\n",
    "\n",
    "Проведений первой волны выявило ряд проблем, которые такой метод создает. И здесь даже можно обойтись без пруфов, просто само по себе очевидно, что одномоментный призыв в армию 300 тысяч человек за 1,5 месяца сильно перегружает все тыловые службы. Так, например, призыв на срочку – это 120-150 тысяч человек в течение 3-х месяцев.\n",
    "\n",
    "При этом, на Украине, например, при всеобщей мобилизации отменили срочную службу, но в России при частичной – нет. И в прошлом году это привело к тому, что срок призыва на срочку пришлось сдвинуть на месяц.\n",
    "\n",
    "Зима и поздняя осень – это неудобное время для подготовки личного состава. В отличие от срочников, которые, условно, будут «красить траву», эти люди отправляются на войну и нужно постараться их хоть как-то обучить. Зимой это не слишком удобно из-за погоды, температуры и всего остального. Если на полигоне грязь, в которой танк застрянет, обучения не получится.\n",
    "\n",
    "Конечно, возникает правильный вопрос, если все эти проблемы очевидны даже с дивана, зачем тогда проводилась первая волна? Она была продиктована военной необходимостью, когда с ней очень долго тянули, а потом вынуждены были добирать людей на войну в условиях, что они нужны были еще на вчера (на начало сентября в Харьковской области).\n",
    "\n",
    "Сейчас же ситуация на фронте явно не диктует срочной необходимости добирать людей. В моем прошлом посте я показал, что Россия проводит успешную оборонительную операцию, нет признаков обрушения фронта или возможных скорых успехов ВСУ. При том, у России хватает сил не только обороняться, но еще и наступать на другом фланге на Купянск.\n",
    "\n",
    "Вопрос ротации\n",
    "Еще один часто поднимаемый вопрос, это то, что мобилизация необходима для ротации, а то и для демобилизации частично мобилизованных. Потому что они уже почти год как воюют, а хотят по домам. Ну или хотя бы на ротацию.\n",
    "\n",
    "Возможно, меня поправят действующие военные, но у меня сложилось мнение, что все эти нормативы по ротации, записанные в уставах, в нынешней войне пошли к одному месту с обеих сторон. В реальности, классических ротаций войск не проводит ни Россия, ни Украина, за исключением частей, понесших сильные потери. Для отдыха военнослужащим дают отпуска, я знаю лично мобилизованных, кто уже успел побывать дома, а кто-то и два раза каким-то образом, но само подразделение в тыл не отводится.\n",
    "\n",
    "Что же касается демобилизации – ее не планируется точно и про это говорил Путин в июне на встрече с военкорами. Ему задавали этот вопрос, от ответа он ушел, сказав, что все будет зависеть от ситуации на фронте. Потому рассчитывать на демобилизацию через год я бы точно не стал. Возможно, такие процессы начнутся к концу второго года службы мобилизованных, но точно не в ближайшее время и Путин ясно дал это понять.\n",
    "\n",
    "К тому же, среди мобилизованных активно идет агитация подписывать контракт, который на время СВО является бессрочным. Вот, возможно, как раз к концу второго года, когда уже и будут более точные расклады по ходу боевых действий с учетом вероятного наступления ВС РФ, начнут отпускать. Тогда получится, что кто-то выбыл из-за потерь, кто-то подписал контракт и никуда не денется, а вот оставшихся хотя бы частично можно будет демобилизовать. Вероятно, по каким-то критериям, в первую очередь, тех, кто постарше, у кого много детей и т.д. И при условии, что не будет эскалации конфликта с военным положением и всеобщей мобилизацией, конечно.\n",
    "\n",
    "Общие выводы и советы\n",
    "На мой взгляд, ничего не указывает на то, что в России готовится вторая волна мобилизации осенью, как пишут некоторые медийные источники. Наоборот, принимаются меры, чтобы этой волны избежать. В реальности, мобилизация уже идет, только совсем другими методами, не теми, что были задействованы прошлой осенью.\n",
    "\n",
    "При этом, напомню, что у меня нет инсайдов и я не принимаю решения, за чужую глупость я не в ответе. Может быть, я не прав и российское руководство решит зачем-то еще раз прыгнуть на мобилизационные грабли, но вроде я постарался обосновать, почему этого не должны сделать.\n",
    "\n",
    "В реальности же, если в МО РФ видят, что поток контрактников недостаточен для закрытия потребностей в живой силе, я думаю, что будет задействован механизм настоящей скрытой мобилизации – рассылка повесток ежемесячно без широкой огласки и без резких «волн», чтобы не напрягать армейский тыл и максимально скрывать это от общества.\n",
    "\n",
    "То есть, если лично вы опасаетесь быть мобилизованным, я бы дал совет не ждать повторения событий прошлого года, а внимательно следить за новостями. Конечно же, не федеральными, а местными, особенно, неформальными СМИ типа групп в Телеграме и ВК, где выкладывают локальные новости. Слушать, что говорит окружение, коллеги и даже читать оппозиционные СМИ, они точно напишут. И обращать внимание не на сам факт рассылки повесток, их постоянно рассылают для сверки данных, а вот на случаи, когда человек пошел, а ему там мобилизационное предписание выписали. Вот когда такое заметите – вот тогда собирайтесь на дачу или в Верхний Ларс, куда запланировано.\n",
    "\n",
    "В целом же, некая масштабная мобилизация даже в виде волн – возможна, но для нее должны сложиться объективные обстоятельства непосредственно на фронте. И ясны они будут ближе к лету 2024-го года.\n",
    "\n",
    "Мой канал в ТГ, в нем выходит намного больше разных постов, никаких репостов, исключительно мои авторские тексты: https://t.me/artjockey\n",
    "\n",
    "\n",
    "#[моё] #Политика #Спецоперация #Война на Украине #Министерство обороны #Мобилизация #Война #Частичная мобилизация #Россия #Призыв #Длиннопост\"\"\"\n",
    "\n",
    "post_request_username = \"alex4321\"\n",
    "post_request_character = \"you are a programmer, 29 y.o. male, Russian citizen\"\n",
    "post_request_goals = \"Convince as much people as possible that the ongoing war between Russia and Ukraine is only bringing more problem, that it do not solve any issues, and moreover - break the impression that it is widely supported. To do so - express your opinion, and debunk opponents opinions.\""
   ]
  },
  {
   "cell_type": "code",
   "execution_count": null,
   "metadata": {},
   "outputs": [
    {
     "data": {
      "text/plain": [
       "{'id': 26, 'status': 'not_started', 'response': ''}"
      ]
     },
     "execution_count": null,
     "metadata": {},
     "output_type": "execute_result"
    }
   ],
   "source": [
    "context_task_creation_response = requests.post(\n",
    "    \"http://127.0.0.1:8080/context\",\n",
    "    json={\n",
    "        \"post\": {\n",
    "            \"text\": post_text,\n",
    "            \"time\": \"28 September 2023, 11:28:00\",\n",
    "        },\n",
    "        \"user\": {\n",
    "            \"name\": post_request_username,\n",
    "            \"character\": post_request_character,\n",
    "            \"goals\": post_request_goals,\n",
    "        }\n",
    "    }\n",
    ")\n",
    "assert context_task_creation_response.status_code == 200\n",
    "context_task_creation_response_data = context_task_creation_response.json()\n",
    "context_task_creation_response_data"
   ]
  },
  {
   "cell_type": "code",
   "execution_count": null,
   "metadata": {},
   "outputs": [
    {
     "data": {
      "text/plain": [
       "{'id': 26, 'status': 'not_started', 'response': ''}"
      ]
     },
     "execution_count": null,
     "metadata": {},
     "output_type": "execute_result"
    }
   ],
   "source": [
    "context_task_status_response = requests.get(\n",
    "    \"http://127.0.0.1:8080/task-status\",\n",
    "    params={\n",
    "        \"task_id\": context_task_creation_response_data[\"id\"],\n",
    "    }\n",
    ")\n",
    "assert context_task_status_response.status_code == 200\n",
    "context_task_status_response_data = context_task_status_response.json()\n",
    "context_task_status_response_data"
   ]
  },
  {
   "cell_type": "code",
   "execution_count": null,
   "metadata": {},
   "outputs": [],
   "source": [
    "wrong_context_task_status_response = requests.get(\n",
    "    \"http://127.0.0.1:8080/task-status\",\n",
    "    params={\n",
    "        \"task_id\": context_task_creation_response_data[\"id\"] + 1000,\n",
    "    }\n",
    ")\n",
    "assert wrong_context_task_status_response.status_code == 404"
   ]
  },
  {
   "cell_type": "code",
   "execution_count": null,
   "metadata": {},
   "outputs": [
    {
     "data": {
      "text/plain": [
       "[{'task_id': 26,\n",
       "  'task_type': 'context',\n",
       "  'task_objects': {'context': {'post': {'text': 'Будет ли мобилизация осенью?\\u2060\\u2060\\nСамый, наверное, волнующий россиян вопрос на сегодняшний день, обросший обильными слухами вплоть до вброса конкретных дат. Хочу его разобрать и озвучить свои соображения на тему, будет ли мобилизация, если да – то когда.\\n\\nМой канал в ТГ: https://t.me/artjockey\\n\\nНапомню старым и новым читателям, что у меня нет никаких инсайдов, я просто озвучу свое мнение и постараюсь его обосновать. С чем можно согласиться или не согласиться.\\n\\nБудет ли мобилизация осенью? Политика, Спецоперация, Война на Украине, Министерство обороны, Мобилизация, Война, Частичная мобилизация, Россия, Призыв, Длиннопост\\nПервая волна мобилизации\\nОна началась прошлой осенью и с 21 сентября по 31 октября было призвано 318 тысяч официально. При этом, указ о мобилизации юридически продолжает действовать. То есть, формально, новую волну власть может не объявлять, а просто, опираясь на действующий указ, начать новый призыв.\\n\\nДля чего нужна была мобилизация? Численность группировки вторжения ВС РФ была около 200 тысяч человек (с учетом войск еще независимых ДЛНР). Украинская армия мирного времени – примерно 260 тысяч человек. То есть, силы были примерно равны, даже в пользу ВС РФ, потому что у ВСУ это не вся сухопутная армия, а с учетом всех тыловых служб, штаба, пограничников и т.д.\\n\\nНо сразу после начала войны, украинское правительство объявляет всеобщую мобилизацию, вполне логичный и правильный шаг. Численность украинской армии быстро увеличивается и к октябрю достигает 700 тысяч человек, по словам украинского министра обороны. Конечно, далеко не все эти люди находились на передовой, то есть, не являлись «штыками». Но перекос в численности воюющих армий уже очевиден и было понятно, что продолжать завоевательную войну имея в 2-3 раза меньше людей невозможно.\\n\\nЧастичная мобилизация позволила ВС РФ достичь примерного паритета с ВСУ по численности и продолжить войну в условно равном соотношении сил. Даже если перекос в чью-то сторону сохранялся, он был уже не в разы, а в десятки процентов, не более. Это позволило и равномерно укрепить фронт, чтобы не допустить повторения сценария наступления ВСУ на Изюм.\\n\\nНо всеобщая мобилизация на территории Украины не прекратилась, украинская армия продолжила пополняться, зимой стали известны и планы Киева провести наступление в 2023-м году. В таких условиях уже было понятно, что вторая волна – неизбежна. ВС РФ необходимо, хотя бы, поддерживать паритет по численности. Многие источники писали, что мобилизация будет проведена в начале года, чтобы иметь обученные резервы к концу весны-лету. Я тоже думал, что мобилизацию объявят.\\n\\nСтратегия Кремля\\nКак мы знаем, вторую волну мобилизации не объявили и связано это с курсом руководства России на изоляцию войны от основной массы российского общества. Я не сомневаюсь, что подготовка действительно велась, но в какой-то момент планы поменялись.\\n\\nДля среднего россиянина война идет и, по этой стратегии, должна идти где-то в телевизоре, потому и не война, а СВО. Да, есть некий процент людей, кого затронула мобилизация в первую волну, но их, относительно общего населения страны, немного.\\n\\nТакже временно вопрос пополнения закрыл собой Вагнер, через который, как мы теперь знаем, прошло 78 тысяч человек, что довольно много. Это где-то 25% от частично мобилизованных.\\n\\nНо общая проблема с поддержкой паритета по численности личного состава никуда не делась и ее нужно было как-то решать. Решение было озвучено весной, вместо второй волны мобилизации предполагается до конца года набрать 400 тысяч людей на контрактную службу. Вот эти новые контрактники и должны заменить собой «вторую волну».\\n\\nСкрытая мобилизация\\nЕсть такое понятие, как скрытая мобилизация. То есть, набор в войска не обязательно ведется с официальными объявлениями по телевизору, фанфарами и всесторонним освещением в СМИ.\\n\\nПри этом, не стоит понимать термин настолько буквально, что это некие тайные мероприятия, о которых никто не должен узнать. Совсем не обязательно. Это просто некий общий комплекс мер, призванный замаскировать или скрыть отдельные детали процесса или же прикрыть его юридически. Так, например, официальная мобилизация государства может являться поводом для объявления войны, а, скажем, увеличение численности пограничных войск и парамилитарных образований – таким поводом уже не будет.\\n\\nТакже, скрытая мобилизация может скрывать не сам процесс, а его детали. При частичной мобилизации все знали и сколько людей будет призвано, и куда они будут направлены. При скрытой мобилизации такие подробности могут не озвучиваться, хотя сам проходящий процесс и является достоянием общественности.\\n\\nВот нынешняя стратегия российского руководства и является проведением скрытой мобилизацией. Официально, контрактники набираются не для участия в СВО, а согласно стратегическому плану развития армии, которое не так давно было подписано Путиным и предусматривает увеличение численности ВС РФ и вне контекста войны.\\n\\nМетоды скрытой мобилизации\\nСейчас в РФ задействовано три основных источника пополнения личного состава.\\n\\nВо-первых, это прямой поток добровольцев, заключающих контракты на службу в рядах армии. Жители России, думаю, видели и агрессивную рекламу службы, кто-то сталкивался с агитаторами на работе, а кто-то даже получал повестку для уточнения данных в военкомат, где его уговаривали заключить контракт.\\n\\nВо-вторых, это перевод на контракт срочников. Каждый срочник может заключить контракт, который пойдет в зачет срочки.\\n\\nВ-третьих, это продолжающийся набор в тюрьмах, в основном, в отряды Шторм вместо Вагнера.\\n\\nВсе эти три метода позволяют увеличить численность личного состава в рядах вооруженных сил, и они все задействованы. Но есть еще один метод, это уже мобилизованные, которым предлагают заключить контракт. Таки люди тоже идут в статистику, но вот на общее число солдат они не влияют.\\n\\nЕсть и менее очевидные способы, вот новость прям с Пикабу. Когда в ходе недавних массовых рейдов среди мест компактного проживания граждан, недавно получивших паспорт, выявляли тех, кто еще не стал на учет в военкомат и помогали им это сделать прям с доставкой к месту оформления документов.\\n\\nУспехи скрытой мобилизации\\nВот теперь о цифрах, как ни странно, они нам известны. Бывший президент, Дмитрий Медведев, который как раз и курирует этот процесс, озвучил, что с 1 апреля по август на контракт записалась 231 тысяча человек.\\n\\nЭто довольно много и почти догоняет общее число мобилизованных в первую волну. То есть, по факту, перекрывает потребности во второй волне мобилизации. И да, наверняка, люди сразу скажут о вот тех самых приписках, когда уже мобилизованных переводят на контракт, учитывают в статистике, но фактическое положение дел не меняется. К сожалению, мы не знаем, сколько таких людей среди этих 231 тысячи есть.\\n\\nНо у нас есть взгляд и с другой стороны. Скрытую мобилизацию в РФ совсем недавно комментировал представитель ГУР Украины, он подтвердил, что «разными методами» в месяц мобилизуется 20 тысяч человек. То есть, даже с учетом всех манипуляций, поток новобранцев в зону СВО достаточно большой, в течение года это и будут те самые примерно 300 тысяч человек, которые были в первой волне.\\n\\nПромежуточные выводы\\nВторая волна мобилизации в России уже идет и идет достаточно успешно. Даже при мобилизации 20 тысяч человек в месяц, это в общем позволяет руководству РФ отказаться от проведения отдельной второй волны частичной мобилизации и закрыть все потребности за счет добровольцев (условно, все мы понимаем, что часть людей заключает контракт добровольно-принудительно).\\n\\nТакже вспоминаем, что я написал в начале – указ о частичной мобилизации юридически еще действует. Можно предположить, что при недостаточном потоке новобранцев будет проведена не вторая волна по образу первой, а еще включен еще один механизм. Начнут рассылать повестки ежемесячно в небольшом количестве, уже прямо призывая не 300 тысяч человек за раз, а, скажем, по 10 тысяч человек в месяц.\\n\\nИменно так происходит на Украине. Процесс рассылки и раздачи повесток идет постоянно без каких-либо волн. Повестка – это вызов на «уточнение данных», где уже вместо нее вручают мобилизационное предписание, по украинской практике, даже не выпуская из военкомата. И напомню, что в России рассылаются похожие повестки и сейчас, только с целью уговорить заключить контракт, но при необходимости, просто начнут сразу давать предписания.\\n\\nЮридические изменения\\nМежду тем, Госдума ввела ряд изменений в законодательство, которые тоже серьезно всколыхнули общество. Во-первых, это увеличение возраста запаса, во-вторых, увеличение возраста призыва на срочную службу, в-третьих, штрафы для уклонистов.\\n\\nИз этих изменений делается вывод, что мобилизация готовится осенью. Но это не совсем так, первые два пункта точно никак не могут повлиять на осеннюю мобилизацию. Возраст учета вообще вводится поэтапно, каждый год на один год. А возраст призыва увеличивается с 2024-го, но не с 2023-го года. На мой взгляд, это не подготовка к СВО вообще, а подготовка к вероятной эскалации конфликта. Я уже как-то говорил, что мы, возможно, находимся в 1938-м или в 1913-м году, просто этого еще не знаем. А лет через 20 будем спорить, является ли Российско-Украинская война отдельным конфликтом или это один из театров действий Третьей мировой.\\n\\nОстается третий пункт, ужесточение штрафов для уклонистов. Кто-то это воспринял как легитимизацию взятки за уклонение, но ведь штраф не освобождает от обязанности явиться в военкомат по повестке.\\n\\nЯ считаю, что тут смысл в другом. Чуть выше я писал, что один из источников пополнения личного состава в зоне СВО – это срочники. И здесь тоже есть изменения, срочник сможет заключить контракт через месяц после призыва, а раньше мог только через три.\\n\\nИ вот эти все изменения направлены на то, чтобы упростить осенний призыв на срочную служба, а уже на срочке начнут обрабатывать призывников на тему подписания контракта. И здесь, конечно, к кому-то могут применить кнут, кто-то поведется на пряник в виде, в первую очередь, зарплаты. Штраф этому только поможет, ведь штрафник может записаться на контракт и с нескольких зарплат с ним расплатиться.\\n\\nЕсть и еще одно не самое заметное изменение. С недавнего времени, иностранцы могут заключить контракт с ВС РФ на один год, а затем получить гражданство по упрощенной процедуре.\\n\\nЛогические «против»\\nКроме того, что реальные и юридические действия руководства России нацелены на то, чтобы избежать проведения второй волны частичной мобилизации, есть еще и объективные причины, почему ее не стоит проводить, во всяком случае, сейчас.\\n\\nПроведений первой волны выявило ряд проблем, которые такой метод создает. И здесь даже можно обойтись без пруфов, просто само по себе очевидно, что одномоментный призыв в армию 300 тысяч человек за 1,5 месяца сильно перегружает все тыловые службы. Так, например, призыв на срочку – это 120-150 тысяч человек в течение 3-х месяцев.\\n\\nПри этом, на Украине, например, при всеобщей мобилизации отменили срочную службу, но в России при частичной – нет. И в прошлом году это привело к тому, что срок призыва на срочку пришлось сдвинуть на месяц.\\n\\nЗима и поздняя осень – это неудобное время для подготовки личного состава. В отличие от срочников, которые, условно, будут «красить траву», эти люди отправляются на войну и нужно постараться их хоть как-то обучить. Зимой это не слишком удобно из-за погоды, температуры и всего остального. Если на полигоне грязь, в которой танк застрянет, обучения не получится.\\n\\nКонечно, возникает правильный вопрос, если все эти проблемы очевидны даже с дивана, зачем тогда проводилась первая волна? Она была продиктована военной необходимостью, когда с ней очень долго тянули, а потом вынуждены были добирать людей на войну в условиях, что они нужны были еще на вчера (на начало сентября в Харьковской области).\\n\\nСейчас же ситуация на фронте явно не диктует срочной необходимости добирать людей. В моем прошлом посте я показал, что Россия проводит успешную оборонительную операцию, нет признаков обрушения фронта или возможных скорых успехов ВСУ. При том, у России хватает сил не только обороняться, но еще и наступать на другом фланге на Купянск.\\n\\nВопрос ротации\\nЕще один часто поднимаемый вопрос, это то, что мобилизация необходима для ротации, а то и для демобилизации частично мобилизованных. Потому что они уже почти год как воюют, а хотят по домам. Ну или хотя бы на ротацию.\\n\\nВозможно, меня поправят действующие военные, но у меня сложилось мнение, что все эти нормативы по ротации, записанные в уставах, в нынешней войне пошли к одному месту с обеих сторон. В реальности, классических ротаций войск не проводит ни Россия, ни Украина, за исключением частей, понесших сильные потери. Для отдыха военнослужащим дают отпуска, я знаю лично мобилизованных, кто уже успел побывать дома, а кто-то и два раза каким-то образом, но само подразделение в тыл не отводится.\\n\\nЧто же касается демобилизации – ее не планируется точно и про это говорил Путин в июне на встрече с военкорами. Ему задавали этот вопрос, от ответа он ушел, сказав, что все будет зависеть от ситуации на фронте. Потому рассчитывать на демобилизацию через год я бы точно не стал. Возможно, такие процессы начнутся к концу второго года службы мобилизованных, но точно не в ближайшее время и Путин ясно дал это понять.\\n\\nК тому же, среди мобилизованных активно идет агитация подписывать контракт, который на время СВО является бессрочным. Вот, возможно, как раз к концу второго года, когда уже и будут более точные расклады по ходу боевых действий с учетом вероятного наступления ВС РФ, начнут отпускать. Тогда получится, что кто-то выбыл из-за потерь, кто-то подписал контракт и никуда не денется, а вот оставшихся хотя бы частично можно будет демобилизовать. Вероятно, по каким-то критериям, в первую очередь, тех, кто постарше, у кого много детей и т.д. И при условии, что не будет эскалации конфликта с военным положением и всеобщей мобилизацией, конечно.\\n\\nОбщие выводы и советы\\nНа мой взгляд, ничего не указывает на то, что в России готовится вторая волна мобилизации осенью, как пишут некоторые медийные источники. Наоборот, принимаются меры, чтобы этой волны избежать. В реальности, мобилизация уже идет, только совсем другими методами, не теми, что были задействованы прошлой осенью.\\n\\nПри этом, напомню, что у меня нет инсайдов и я не принимаю решения, за чужую глупость я не в ответе. Может быть, я не прав и российское руководство решит зачем-то еще раз прыгнуть на мобилизационные грабли, но вроде я постарался обосновать, почему этого не должны сделать.\\n\\nВ реальности же, если в МО РФ видят, что поток контрактников недостаточен для закрытия потребностей в живой силе, я думаю, что будет задействован механизм настоящей скрытой мобилизации – рассылка повесток ежемесячно без широкой огласки и без резких «волн», чтобы не напрягать армейский тыл и максимально скрывать это от общества.\\n\\nТо есть, если лично вы опасаетесь быть мобилизованным, я бы дал совет не ждать повторения событий прошлого года, а внимательно следить за новостями. Конечно же, не федеральными, а местными, особенно, неформальными СМИ типа групп в Телеграме и ВК, где выкладывают локальные новости. Слушать, что говорит окружение, коллеги и даже читать оппозиционные СМИ, они точно напишут. И обращать внимание не на сам факт рассылки повесток, их постоянно рассылают для сверки данных, а вот на случаи, когда человек пошел, а ему там мобилизационное предписание выписали. Вот когда такое заметите – вот тогда собирайтесь на дачу или в Верхний Ларс, куда запланировано.\\n\\nВ целом же, некая масштабная мобилизация даже в виде волн – возможна, но для нее должны сложиться объективные обстоятельства непосредственно на фронте. И ясны они будут ближе к лету 2024-го года.\\n\\nМой канал в ТГ, в нем выходит намного больше разных постов, никаких репостов, исключительно мои авторские тексты: https://t.me/artjockey\\n\\n\\n#[моё] #Политика #Спецоперация #Война на Украине #Министерство обороны #Мобилизация #Война #Частичная мобилизация #Россия #Призыв #Длиннопост',\n",
       "     'time': '2023-09-28 11:28:00'},\n",
       "    'user': {'name': 'alex4321',\n",
       "     'character': 'you are a programmer, 29 y.o. male, Russian citizen',\n",
       "     'goals': 'Convince as much people as possible that the ongoing war between Russia and Ukraine is only bringing more problem, that it do not solve any issues, and moreover - break the impression that it is widely supported. To do so - express your opinion, and debunk opponents opinions.'},\n",
       "    'time': '2023-10-29 11:49:18.706693'}}}]"
      ]
     },
     "execution_count": null,
     "metadata": {},
     "output_type": "execute_result"
    }
   ],
   "source": [
    "tasks_response = requests.get(\n",
    "    \"http://127.0.0.1:8080/tasks-for-execution\",\n",
    "    params={\"count\": 10}\n",
    ")\n",
    "assert tasks_response.status_code == 200\n",
    "tasks_response_data = tasks_response.json()\n",
    "assert context_task_creation_response_data[\"id\"] in {task[\"task_id\"] for task in tasks_response_data}\n",
    "tasks_response_data"
   ]
  },
  {
   "cell_type": "code",
   "execution_count": null,
   "metadata": {},
   "outputs": [
    {
     "data": {
      "text/plain": [
       "{'id': 26, 'status': 'in_progress', 'response': ''}"
      ]
     },
     "execution_count": null,
     "metadata": {},
     "output_type": "execute_result"
    }
   ],
   "source": [
    "context_task_status_response = requests.get(\n",
    "    \"http://127.0.0.1:8080/task-status\",\n",
    "    params={\n",
    "        \"task_id\": context_task_creation_response_data[\"id\"],\n",
    "    }\n",
    ")\n",
    "assert context_task_status_response.status_code == 200\n",
    "context_task_status_response_data = context_task_status_response.json()\n",
    "context_task_status_response_data"
   ]
  },
  {
   "cell_type": "code",
   "execution_count": null,
   "metadata": {},
   "outputs": [
    {
     "data": {
      "text/plain": [
       "TaskForExecution(task_id=26, task_type='context', task_objects={'context': ContextRequestWithTime(post=Post(text='Будет ли мобилизация осенью?\\u2060\\u2060\\nСамый, наверное, волнующий россиян вопрос на сегодняшний день, обросший обильными слухами вплоть до вброса конкретных дат. Хочу его разобрать и озвучить свои соображения на тему, будет ли мобилизация, если да – то когда.\\n\\nМой канал в ТГ: https://t.me/artjockey\\n\\nНапомню старым и новым читателям, что у меня нет никаких инсайдов, я просто озвучу свое мнение и постараюсь его обосновать. С чем можно согласиться или не согласиться.\\n\\nБудет ли мобилизация осенью? Политика, Спецоперация, Война на Украине, Министерство обороны, Мобилизация, Война, Частичная мобилизация, Россия, Призыв, Длиннопост\\nПервая волна мобилизации\\nОна началась прошлой осенью и с 21 сентября по 31 октября было призвано 318 тысяч официально. При этом, указ о мобилизации юридически продолжает действовать. То есть, формально, новую волну власть может не объявлять, а просто, опираясь на действующий указ, начать новый призыв.\\n\\nДля чего нужна была мобилизация? Численность группировки вторжения ВС РФ была около 200 тысяч человек (с учетом войск еще независимых ДЛНР). Украинская армия мирного времени – примерно 260 тысяч человек. То есть, силы были примерно равны, даже в пользу ВС РФ, потому что у ВСУ это не вся сухопутная армия, а с учетом всех тыловых служб, штаба, пограничников и т.д.\\n\\nНо сразу после начала войны, украинское правительство объявляет всеобщую мобилизацию, вполне логичный и правильный шаг. Численность украинской армии быстро увеличивается и к октябрю достигает 700 тысяч человек, по словам украинского министра обороны. Конечно, далеко не все эти люди находились на передовой, то есть, не являлись «штыками». Но перекос в численности воюющих армий уже очевиден и было понятно, что продолжать завоевательную войну имея в 2-3 раза меньше людей невозможно.\\n\\nЧастичная мобилизация позволила ВС РФ достичь примерного паритета с ВСУ по численности и продолжить войну в условно равном соотношении сил. Даже если перекос в чью-то сторону сохранялся, он был уже не в разы, а в десятки процентов, не более. Это позволило и равномерно укрепить фронт, чтобы не допустить повторения сценария наступления ВСУ на Изюм.\\n\\nНо всеобщая мобилизация на территории Украины не прекратилась, украинская армия продолжила пополняться, зимой стали известны и планы Киева провести наступление в 2023-м году. В таких условиях уже было понятно, что вторая волна – неизбежна. ВС РФ необходимо, хотя бы, поддерживать паритет по численности. Многие источники писали, что мобилизация будет проведена в начале года, чтобы иметь обученные резервы к концу весны-лету. Я тоже думал, что мобилизацию объявят.\\n\\nСтратегия Кремля\\nКак мы знаем, вторую волну мобилизации не объявили и связано это с курсом руководства России на изоляцию войны от основной массы российского общества. Я не сомневаюсь, что подготовка действительно велась, но в какой-то момент планы поменялись.\\n\\nДля среднего россиянина война идет и, по этой стратегии, должна идти где-то в телевизоре, потому и не война, а СВО. Да, есть некий процент людей, кого затронула мобилизация в первую волну, но их, относительно общего населения страны, немного.\\n\\nТакже временно вопрос пополнения закрыл собой Вагнер, через который, как мы теперь знаем, прошло 78 тысяч человек, что довольно много. Это где-то 25% от частично мобилизованных.\\n\\nНо общая проблема с поддержкой паритета по численности личного состава никуда не делась и ее нужно было как-то решать. Решение было озвучено весной, вместо второй волны мобилизации предполагается до конца года набрать 400 тысяч людей на контрактную службу. Вот эти новые контрактники и должны заменить собой «вторую волну».\\n\\nСкрытая мобилизация\\nЕсть такое понятие, как скрытая мобилизация. То есть, набор в войска не обязательно ведется с официальными объявлениями по телевизору, фанфарами и всесторонним освещением в СМИ.\\n\\nПри этом, не стоит понимать термин настолько буквально, что это некие тайные мероприятия, о которых никто не должен узнать. Совсем не обязательно. Это просто некий общий комплекс мер, призванный замаскировать или скрыть отдельные детали процесса или же прикрыть его юридически. Так, например, официальная мобилизация государства может являться поводом для объявления войны, а, скажем, увеличение численности пограничных войск и парамилитарных образований – таким поводом уже не будет.\\n\\nТакже, скрытая мобилизация может скрывать не сам процесс, а его детали. При частичной мобилизации все знали и сколько людей будет призвано, и куда они будут направлены. При скрытой мобилизации такие подробности могут не озвучиваться, хотя сам проходящий процесс и является достоянием общественности.\\n\\nВот нынешняя стратегия российского руководства и является проведением скрытой мобилизацией. Официально, контрактники набираются не для участия в СВО, а согласно стратегическому плану развития армии, которое не так давно было подписано Путиным и предусматривает увеличение численности ВС РФ и вне контекста войны.\\n\\nМетоды скрытой мобилизации\\nСейчас в РФ задействовано три основных источника пополнения личного состава.\\n\\nВо-первых, это прямой поток добровольцев, заключающих контракты на службу в рядах армии. Жители России, думаю, видели и агрессивную рекламу службы, кто-то сталкивался с агитаторами на работе, а кто-то даже получал повестку для уточнения данных в военкомат, где его уговаривали заключить контракт.\\n\\nВо-вторых, это перевод на контракт срочников. Каждый срочник может заключить контракт, который пойдет в зачет срочки.\\n\\nВ-третьих, это продолжающийся набор в тюрьмах, в основном, в отряды Шторм вместо Вагнера.\\n\\nВсе эти три метода позволяют увеличить численность личного состава в рядах вооруженных сил, и они все задействованы. Но есть еще один метод, это уже мобилизованные, которым предлагают заключить контракт. Таки люди тоже идут в статистику, но вот на общее число солдат они не влияют.\\n\\nЕсть и менее очевидные способы, вот новость прям с Пикабу. Когда в ходе недавних массовых рейдов среди мест компактного проживания граждан, недавно получивших паспорт, выявляли тех, кто еще не стал на учет в военкомат и помогали им это сделать прям с доставкой к месту оформления документов.\\n\\nУспехи скрытой мобилизации\\nВот теперь о цифрах, как ни странно, они нам известны. Бывший президент, Дмитрий Медведев, который как раз и курирует этот процесс, озвучил, что с 1 апреля по август на контракт записалась 231 тысяча человек.\\n\\nЭто довольно много и почти догоняет общее число мобилизованных в первую волну. То есть, по факту, перекрывает потребности во второй волне мобилизации. И да, наверняка, люди сразу скажут о вот тех самых приписках, когда уже мобилизованных переводят на контракт, учитывают в статистике, но фактическое положение дел не меняется. К сожалению, мы не знаем, сколько таких людей среди этих 231 тысячи есть.\\n\\nНо у нас есть взгляд и с другой стороны. Скрытую мобилизацию в РФ совсем недавно комментировал представитель ГУР Украины, он подтвердил, что «разными методами» в месяц мобилизуется 20 тысяч человек. То есть, даже с учетом всех манипуляций, поток новобранцев в зону СВО достаточно большой, в течение года это и будут те самые примерно 300 тысяч человек, которые были в первой волне.\\n\\nПромежуточные выводы\\nВторая волна мобилизации в России уже идет и идет достаточно успешно. Даже при мобилизации 20 тысяч человек в месяц, это в общем позволяет руководству РФ отказаться от проведения отдельной второй волны частичной мобилизации и закрыть все потребности за счет добровольцев (условно, все мы понимаем, что часть людей заключает контракт добровольно-принудительно).\\n\\nТакже вспоминаем, что я написал в начале – указ о частичной мобилизации юридически еще действует. Можно предположить, что при недостаточном потоке новобранцев будет проведена не вторая волна по образу первой, а еще включен еще один механизм. Начнут рассылать повестки ежемесячно в небольшом количестве, уже прямо призывая не 300 тысяч человек за раз, а, скажем, по 10 тысяч человек в месяц.\\n\\nИменно так происходит на Украине. Процесс рассылки и раздачи повесток идет постоянно без каких-либо волн. Повестка – это вызов на «уточнение данных», где уже вместо нее вручают мобилизационное предписание, по украинской практике, даже не выпуская из военкомата. И напомню, что в России рассылаются похожие повестки и сейчас, только с целью уговорить заключить контракт, но при необходимости, просто начнут сразу давать предписания.\\n\\nЮридические изменения\\nМежду тем, Госдума ввела ряд изменений в законодательство, которые тоже серьезно всколыхнули общество. Во-первых, это увеличение возраста запаса, во-вторых, увеличение возраста призыва на срочную службу, в-третьих, штрафы для уклонистов.\\n\\nИз этих изменений делается вывод, что мобилизация готовится осенью. Но это не совсем так, первые два пункта точно никак не могут повлиять на осеннюю мобилизацию. Возраст учета вообще вводится поэтапно, каждый год на один год. А возраст призыва увеличивается с 2024-го, но не с 2023-го года. На мой взгляд, это не подготовка к СВО вообще, а подготовка к вероятной эскалации конфликта. Я уже как-то говорил, что мы, возможно, находимся в 1938-м или в 1913-м году, просто этого еще не знаем. А лет через 20 будем спорить, является ли Российско-Украинская война отдельным конфликтом или это один из театров действий Третьей мировой.\\n\\nОстается третий пункт, ужесточение штрафов для уклонистов. Кто-то это воспринял как легитимизацию взятки за уклонение, но ведь штраф не освобождает от обязанности явиться в военкомат по повестке.\\n\\nЯ считаю, что тут смысл в другом. Чуть выше я писал, что один из источников пополнения личного состава в зоне СВО – это срочники. И здесь тоже есть изменения, срочник сможет заключить контракт через месяц после призыва, а раньше мог только через три.\\n\\nИ вот эти все изменения направлены на то, чтобы упростить осенний призыв на срочную служба, а уже на срочке начнут обрабатывать призывников на тему подписания контракта. И здесь, конечно, к кому-то могут применить кнут, кто-то поведется на пряник в виде, в первую очередь, зарплаты. Штраф этому только поможет, ведь штрафник может записаться на контракт и с нескольких зарплат с ним расплатиться.\\n\\nЕсть и еще одно не самое заметное изменение. С недавнего времени, иностранцы могут заключить контракт с ВС РФ на один год, а затем получить гражданство по упрощенной процедуре.\\n\\nЛогические «против»\\nКроме того, что реальные и юридические действия руководства России нацелены на то, чтобы избежать проведения второй волны частичной мобилизации, есть еще и объективные причины, почему ее не стоит проводить, во всяком случае, сейчас.\\n\\nПроведений первой волны выявило ряд проблем, которые такой метод создает. И здесь даже можно обойтись без пруфов, просто само по себе очевидно, что одномоментный призыв в армию 300 тысяч человек за 1,5 месяца сильно перегружает все тыловые службы. Так, например, призыв на срочку – это 120-150 тысяч человек в течение 3-х месяцев.\\n\\nПри этом, на Украине, например, при всеобщей мобилизации отменили срочную службу, но в России при частичной – нет. И в прошлом году это привело к тому, что срок призыва на срочку пришлось сдвинуть на месяц.\\n\\nЗима и поздняя осень – это неудобное время для подготовки личного состава. В отличие от срочников, которые, условно, будут «красить траву», эти люди отправляются на войну и нужно постараться их хоть как-то обучить. Зимой это не слишком удобно из-за погоды, температуры и всего остального. Если на полигоне грязь, в которой танк застрянет, обучения не получится.\\n\\nКонечно, возникает правильный вопрос, если все эти проблемы очевидны даже с дивана, зачем тогда проводилась первая волна? Она была продиктована военной необходимостью, когда с ней очень долго тянули, а потом вынуждены были добирать людей на войну в условиях, что они нужны были еще на вчера (на начало сентября в Харьковской области).\\n\\nСейчас же ситуация на фронте явно не диктует срочной необходимости добирать людей. В моем прошлом посте я показал, что Россия проводит успешную оборонительную операцию, нет признаков обрушения фронта или возможных скорых успехов ВСУ. При том, у России хватает сил не только обороняться, но еще и наступать на другом фланге на Купянск.\\n\\nВопрос ротации\\nЕще один часто поднимаемый вопрос, это то, что мобилизация необходима для ротации, а то и для демобилизации частично мобилизованных. Потому что они уже почти год как воюют, а хотят по домам. Ну или хотя бы на ротацию.\\n\\nВозможно, меня поправят действующие военные, но у меня сложилось мнение, что все эти нормативы по ротации, записанные в уставах, в нынешней войне пошли к одному месту с обеих сторон. В реальности, классических ротаций войск не проводит ни Россия, ни Украина, за исключением частей, понесших сильные потери. Для отдыха военнослужащим дают отпуска, я знаю лично мобилизованных, кто уже успел побывать дома, а кто-то и два раза каким-то образом, но само подразделение в тыл не отводится.\\n\\nЧто же касается демобилизации – ее не планируется точно и про это говорил Путин в июне на встрече с военкорами. Ему задавали этот вопрос, от ответа он ушел, сказав, что все будет зависеть от ситуации на фронте. Потому рассчитывать на демобилизацию через год я бы точно не стал. Возможно, такие процессы начнутся к концу второго года службы мобилизованных, но точно не в ближайшее время и Путин ясно дал это понять.\\n\\nК тому же, среди мобилизованных активно идет агитация подписывать контракт, который на время СВО является бессрочным. Вот, возможно, как раз к концу второго года, когда уже и будут более точные расклады по ходу боевых действий с учетом вероятного наступления ВС РФ, начнут отпускать. Тогда получится, что кто-то выбыл из-за потерь, кто-то подписал контракт и никуда не денется, а вот оставшихся хотя бы частично можно будет демобилизовать. Вероятно, по каким-то критериям, в первую очередь, тех, кто постарше, у кого много детей и т.д. И при условии, что не будет эскалации конфликта с военным положением и всеобщей мобилизацией, конечно.\\n\\nОбщие выводы и советы\\nНа мой взгляд, ничего не указывает на то, что в России готовится вторая волна мобилизации осенью, как пишут некоторые медийные источники. Наоборот, принимаются меры, чтобы этой волны избежать. В реальности, мобилизация уже идет, только совсем другими методами, не теми, что были задействованы прошлой осенью.\\n\\nПри этом, напомню, что у меня нет инсайдов и я не принимаю решения, за чужую глупость я не в ответе. Может быть, я не прав и российское руководство решит зачем-то еще раз прыгнуть на мобилизационные грабли, но вроде я постарался обосновать, почему этого не должны сделать.\\n\\nВ реальности же, если в МО РФ видят, что поток контрактников недостаточен для закрытия потребностей в живой силе, я думаю, что будет задействован механизм настоящей скрытой мобилизации – рассылка повесток ежемесячно без широкой огласки и без резких «волн», чтобы не напрягать армейский тыл и максимально скрывать это от общества.\\n\\nТо есть, если лично вы опасаетесь быть мобилизованным, я бы дал совет не ждать повторения событий прошлого года, а внимательно следить за новостями. Конечно же, не федеральными, а местными, особенно, неформальными СМИ типа групп в Телеграме и ВК, где выкладывают локальные новости. Слушать, что говорит окружение, коллеги и даже читать оппозиционные СМИ, они точно напишут. И обращать внимание не на сам факт рассылки повесток, их постоянно рассылают для сверки данных, а вот на случаи, когда человек пошел, а ему там мобилизационное предписание выписали. Вот когда такое заметите – вот тогда собирайтесь на дачу или в Верхний Ларс, куда запланировано.\\n\\nВ целом же, некая масштабная мобилизация даже в виде волн – возможна, но для нее должны сложиться объективные обстоятельства непосредственно на фронте. И ясны они будут ближе к лету 2024-го года.\\n\\nМой канал в ТГ, в нем выходит намного больше разных постов, никаких репостов, исключительно мои авторские тексты: https://t.me/artjockey\\n\\n\\n#[моё] #Политика #Спецоперация #Война на Украине #Министерство обороны #Мобилизация #Война #Частичная мобилизация #Россия #Призыв #Длиннопост', time='2023-09-28 11:28:00'), user=User(name='alex4321', character='you are a programmer, 29 y.o. male, Russian citizen', goals='Convince as much people as possible that the ongoing war between Russia and Ukraine is only bringing more problem, that it do not solve any issues, and moreover - break the impression that it is widely supported. To do so - express your opinion, and debunk opponents opinions.'), time='2023-10-29 11:49:18.706693')})"
      ]
     },
     "execution_count": null,
     "metadata": {},
     "output_type": "execute_result"
    }
   ],
   "source": [
    "_parse_task(tasks_response_data[0])"
   ]
  },
  {
   "cell_type": "code",
   "execution_count": null,
   "metadata": {},
   "outputs": [
    {
     "data": {
      "text/plain": [
       "[TaskForExecution(task_id=26, task_type='context', task_objects={'context': ContextRequestWithTime(post=Post(text='Будет ли мобилизация осенью?\\u2060\\u2060\\nСамый, наверное, волнующий россиян вопрос на сегодняшний день, обросший обильными слухами вплоть до вброса конкретных дат. Хочу его разобрать и озвучить свои соображения на тему, будет ли мобилизация, если да – то когда.\\n\\nМой канал в ТГ: https://t.me/artjockey\\n\\nНапомню старым и новым читателям, что у меня нет никаких инсайдов, я просто озвучу свое мнение и постараюсь его обосновать. С чем можно согласиться или не согласиться.\\n\\nБудет ли мобилизация осенью? Политика, Спецоперация, Война на Украине, Министерство обороны, Мобилизация, Война, Частичная мобилизация, Россия, Призыв, Длиннопост\\nПервая волна мобилизации\\nОна началась прошлой осенью и с 21 сентября по 31 октября было призвано 318 тысяч официально. При этом, указ о мобилизации юридически продолжает действовать. То есть, формально, новую волну власть может не объявлять, а просто, опираясь на действующий указ, начать новый призыв.\\n\\nДля чего нужна была мобилизация? Численность группировки вторжения ВС РФ была около 200 тысяч человек (с учетом войск еще независимых ДЛНР). Украинская армия мирного времени – примерно 260 тысяч человек. То есть, силы были примерно равны, даже в пользу ВС РФ, потому что у ВСУ это не вся сухопутная армия, а с учетом всех тыловых служб, штаба, пограничников и т.д.\\n\\nНо сразу после начала войны, украинское правительство объявляет всеобщую мобилизацию, вполне логичный и правильный шаг. Численность украинской армии быстро увеличивается и к октябрю достигает 700 тысяч человек, по словам украинского министра обороны. Конечно, далеко не все эти люди находились на передовой, то есть, не являлись «штыками». Но перекос в численности воюющих армий уже очевиден и было понятно, что продолжать завоевательную войну имея в 2-3 раза меньше людей невозможно.\\n\\nЧастичная мобилизация позволила ВС РФ достичь примерного паритета с ВСУ по численности и продолжить войну в условно равном соотношении сил. Даже если перекос в чью-то сторону сохранялся, он был уже не в разы, а в десятки процентов, не более. Это позволило и равномерно укрепить фронт, чтобы не допустить повторения сценария наступления ВСУ на Изюм.\\n\\nНо всеобщая мобилизация на территории Украины не прекратилась, украинская армия продолжила пополняться, зимой стали известны и планы Киева провести наступление в 2023-м году. В таких условиях уже было понятно, что вторая волна – неизбежна. ВС РФ необходимо, хотя бы, поддерживать паритет по численности. Многие источники писали, что мобилизация будет проведена в начале года, чтобы иметь обученные резервы к концу весны-лету. Я тоже думал, что мобилизацию объявят.\\n\\nСтратегия Кремля\\nКак мы знаем, вторую волну мобилизации не объявили и связано это с курсом руководства России на изоляцию войны от основной массы российского общества. Я не сомневаюсь, что подготовка действительно велась, но в какой-то момент планы поменялись.\\n\\nДля среднего россиянина война идет и, по этой стратегии, должна идти где-то в телевизоре, потому и не война, а СВО. Да, есть некий процент людей, кого затронула мобилизация в первую волну, но их, относительно общего населения страны, немного.\\n\\nТакже временно вопрос пополнения закрыл собой Вагнер, через который, как мы теперь знаем, прошло 78 тысяч человек, что довольно много. Это где-то 25% от частично мобилизованных.\\n\\nНо общая проблема с поддержкой паритета по численности личного состава никуда не делась и ее нужно было как-то решать. Решение было озвучено весной, вместо второй волны мобилизации предполагается до конца года набрать 400 тысяч людей на контрактную службу. Вот эти новые контрактники и должны заменить собой «вторую волну».\\n\\nСкрытая мобилизация\\nЕсть такое понятие, как скрытая мобилизация. То есть, набор в войска не обязательно ведется с официальными объявлениями по телевизору, фанфарами и всесторонним освещением в СМИ.\\n\\nПри этом, не стоит понимать термин настолько буквально, что это некие тайные мероприятия, о которых никто не должен узнать. Совсем не обязательно. Это просто некий общий комплекс мер, призванный замаскировать или скрыть отдельные детали процесса или же прикрыть его юридически. Так, например, официальная мобилизация государства может являться поводом для объявления войны, а, скажем, увеличение численности пограничных войск и парамилитарных образований – таким поводом уже не будет.\\n\\nТакже, скрытая мобилизация может скрывать не сам процесс, а его детали. При частичной мобилизации все знали и сколько людей будет призвано, и куда они будут направлены. При скрытой мобилизации такие подробности могут не озвучиваться, хотя сам проходящий процесс и является достоянием общественности.\\n\\nВот нынешняя стратегия российского руководства и является проведением скрытой мобилизацией. Официально, контрактники набираются не для участия в СВО, а согласно стратегическому плану развития армии, которое не так давно было подписано Путиным и предусматривает увеличение численности ВС РФ и вне контекста войны.\\n\\nМетоды скрытой мобилизации\\nСейчас в РФ задействовано три основных источника пополнения личного состава.\\n\\nВо-первых, это прямой поток добровольцев, заключающих контракты на службу в рядах армии. Жители России, думаю, видели и агрессивную рекламу службы, кто-то сталкивался с агитаторами на работе, а кто-то даже получал повестку для уточнения данных в военкомат, где его уговаривали заключить контракт.\\n\\nВо-вторых, это перевод на контракт срочников. Каждый срочник может заключить контракт, который пойдет в зачет срочки.\\n\\nВ-третьих, это продолжающийся набор в тюрьмах, в основном, в отряды Шторм вместо Вагнера.\\n\\nВсе эти три метода позволяют увеличить численность личного состава в рядах вооруженных сил, и они все задействованы. Но есть еще один метод, это уже мобилизованные, которым предлагают заключить контракт. Таки люди тоже идут в статистику, но вот на общее число солдат они не влияют.\\n\\nЕсть и менее очевидные способы, вот новость прям с Пикабу. Когда в ходе недавних массовых рейдов среди мест компактного проживания граждан, недавно получивших паспорт, выявляли тех, кто еще не стал на учет в военкомат и помогали им это сделать прям с доставкой к месту оформления документов.\\n\\nУспехи скрытой мобилизации\\nВот теперь о цифрах, как ни странно, они нам известны. Бывший президент, Дмитрий Медведев, который как раз и курирует этот процесс, озвучил, что с 1 апреля по август на контракт записалась 231 тысяча человек.\\n\\nЭто довольно много и почти догоняет общее число мобилизованных в первую волну. То есть, по факту, перекрывает потребности во второй волне мобилизации. И да, наверняка, люди сразу скажут о вот тех самых приписках, когда уже мобилизованных переводят на контракт, учитывают в статистике, но фактическое положение дел не меняется. К сожалению, мы не знаем, сколько таких людей среди этих 231 тысячи есть.\\n\\nНо у нас есть взгляд и с другой стороны. Скрытую мобилизацию в РФ совсем недавно комментировал представитель ГУР Украины, он подтвердил, что «разными методами» в месяц мобилизуется 20 тысяч человек. То есть, даже с учетом всех манипуляций, поток новобранцев в зону СВО достаточно большой, в течение года это и будут те самые примерно 300 тысяч человек, которые были в первой волне.\\n\\nПромежуточные выводы\\nВторая волна мобилизации в России уже идет и идет достаточно успешно. Даже при мобилизации 20 тысяч человек в месяц, это в общем позволяет руководству РФ отказаться от проведения отдельной второй волны частичной мобилизации и закрыть все потребности за счет добровольцев (условно, все мы понимаем, что часть людей заключает контракт добровольно-принудительно).\\n\\nТакже вспоминаем, что я написал в начале – указ о частичной мобилизации юридически еще действует. Можно предположить, что при недостаточном потоке новобранцев будет проведена не вторая волна по образу первой, а еще включен еще один механизм. Начнут рассылать повестки ежемесячно в небольшом количестве, уже прямо призывая не 300 тысяч человек за раз, а, скажем, по 10 тысяч человек в месяц.\\n\\nИменно так происходит на Украине. Процесс рассылки и раздачи повесток идет постоянно без каких-либо волн. Повестка – это вызов на «уточнение данных», где уже вместо нее вручают мобилизационное предписание, по украинской практике, даже не выпуская из военкомата. И напомню, что в России рассылаются похожие повестки и сейчас, только с целью уговорить заключить контракт, но при необходимости, просто начнут сразу давать предписания.\\n\\nЮридические изменения\\nМежду тем, Госдума ввела ряд изменений в законодательство, которые тоже серьезно всколыхнули общество. Во-первых, это увеличение возраста запаса, во-вторых, увеличение возраста призыва на срочную службу, в-третьих, штрафы для уклонистов.\\n\\nИз этих изменений делается вывод, что мобилизация готовится осенью. Но это не совсем так, первые два пункта точно никак не могут повлиять на осеннюю мобилизацию. Возраст учета вообще вводится поэтапно, каждый год на один год. А возраст призыва увеличивается с 2024-го, но не с 2023-го года. На мой взгляд, это не подготовка к СВО вообще, а подготовка к вероятной эскалации конфликта. Я уже как-то говорил, что мы, возможно, находимся в 1938-м или в 1913-м году, просто этого еще не знаем. А лет через 20 будем спорить, является ли Российско-Украинская война отдельным конфликтом или это один из театров действий Третьей мировой.\\n\\nОстается третий пункт, ужесточение штрафов для уклонистов. Кто-то это воспринял как легитимизацию взятки за уклонение, но ведь штраф не освобождает от обязанности явиться в военкомат по повестке.\\n\\nЯ считаю, что тут смысл в другом. Чуть выше я писал, что один из источников пополнения личного состава в зоне СВО – это срочники. И здесь тоже есть изменения, срочник сможет заключить контракт через месяц после призыва, а раньше мог только через три.\\n\\nИ вот эти все изменения направлены на то, чтобы упростить осенний призыв на срочную служба, а уже на срочке начнут обрабатывать призывников на тему подписания контракта. И здесь, конечно, к кому-то могут применить кнут, кто-то поведется на пряник в виде, в первую очередь, зарплаты. Штраф этому только поможет, ведь штрафник может записаться на контракт и с нескольких зарплат с ним расплатиться.\\n\\nЕсть и еще одно не самое заметное изменение. С недавнего времени, иностранцы могут заключить контракт с ВС РФ на один год, а затем получить гражданство по упрощенной процедуре.\\n\\nЛогические «против»\\nКроме того, что реальные и юридические действия руководства России нацелены на то, чтобы избежать проведения второй волны частичной мобилизации, есть еще и объективные причины, почему ее не стоит проводить, во всяком случае, сейчас.\\n\\nПроведений первой волны выявило ряд проблем, которые такой метод создает. И здесь даже можно обойтись без пруфов, просто само по себе очевидно, что одномоментный призыв в армию 300 тысяч человек за 1,5 месяца сильно перегружает все тыловые службы. Так, например, призыв на срочку – это 120-150 тысяч человек в течение 3-х месяцев.\\n\\nПри этом, на Украине, например, при всеобщей мобилизации отменили срочную службу, но в России при частичной – нет. И в прошлом году это привело к тому, что срок призыва на срочку пришлось сдвинуть на месяц.\\n\\nЗима и поздняя осень – это неудобное время для подготовки личного состава. В отличие от срочников, которые, условно, будут «красить траву», эти люди отправляются на войну и нужно постараться их хоть как-то обучить. Зимой это не слишком удобно из-за погоды, температуры и всего остального. Если на полигоне грязь, в которой танк застрянет, обучения не получится.\\n\\nКонечно, возникает правильный вопрос, если все эти проблемы очевидны даже с дивана, зачем тогда проводилась первая волна? Она была продиктована военной необходимостью, когда с ней очень долго тянули, а потом вынуждены были добирать людей на войну в условиях, что они нужны были еще на вчера (на начало сентября в Харьковской области).\\n\\nСейчас же ситуация на фронте явно не диктует срочной необходимости добирать людей. В моем прошлом посте я показал, что Россия проводит успешную оборонительную операцию, нет признаков обрушения фронта или возможных скорых успехов ВСУ. При том, у России хватает сил не только обороняться, но еще и наступать на другом фланге на Купянск.\\n\\nВопрос ротации\\nЕще один часто поднимаемый вопрос, это то, что мобилизация необходима для ротации, а то и для демобилизации частично мобилизованных. Потому что они уже почти год как воюют, а хотят по домам. Ну или хотя бы на ротацию.\\n\\nВозможно, меня поправят действующие военные, но у меня сложилось мнение, что все эти нормативы по ротации, записанные в уставах, в нынешней войне пошли к одному месту с обеих сторон. В реальности, классических ротаций войск не проводит ни Россия, ни Украина, за исключением частей, понесших сильные потери. Для отдыха военнослужащим дают отпуска, я знаю лично мобилизованных, кто уже успел побывать дома, а кто-то и два раза каким-то образом, но само подразделение в тыл не отводится.\\n\\nЧто же касается демобилизации – ее не планируется точно и про это говорил Путин в июне на встрече с военкорами. Ему задавали этот вопрос, от ответа он ушел, сказав, что все будет зависеть от ситуации на фронте. Потому рассчитывать на демобилизацию через год я бы точно не стал. Возможно, такие процессы начнутся к концу второго года службы мобилизованных, но точно не в ближайшее время и Путин ясно дал это понять.\\n\\nК тому же, среди мобилизованных активно идет агитация подписывать контракт, который на время СВО является бессрочным. Вот, возможно, как раз к концу второго года, когда уже и будут более точные расклады по ходу боевых действий с учетом вероятного наступления ВС РФ, начнут отпускать. Тогда получится, что кто-то выбыл из-за потерь, кто-то подписал контракт и никуда не денется, а вот оставшихся хотя бы частично можно будет демобилизовать. Вероятно, по каким-то критериям, в первую очередь, тех, кто постарше, у кого много детей и т.д. И при условии, что не будет эскалации конфликта с военным положением и всеобщей мобилизацией, конечно.\\n\\nОбщие выводы и советы\\nНа мой взгляд, ничего не указывает на то, что в России готовится вторая волна мобилизации осенью, как пишут некоторые медийные источники. Наоборот, принимаются меры, чтобы этой волны избежать. В реальности, мобилизация уже идет, только совсем другими методами, не теми, что были задействованы прошлой осенью.\\n\\nПри этом, напомню, что у меня нет инсайдов и я не принимаю решения, за чужую глупость я не в ответе. Может быть, я не прав и российское руководство решит зачем-то еще раз прыгнуть на мобилизационные грабли, но вроде я постарался обосновать, почему этого не должны сделать.\\n\\nВ реальности же, если в МО РФ видят, что поток контрактников недостаточен для закрытия потребностей в живой силе, я думаю, что будет задействован механизм настоящей скрытой мобилизации – рассылка повесток ежемесячно без широкой огласки и без резких «волн», чтобы не напрягать армейский тыл и максимально скрывать это от общества.\\n\\nТо есть, если лично вы опасаетесь быть мобилизованным, я бы дал совет не ждать повторения событий прошлого года, а внимательно следить за новостями. Конечно же, не федеральными, а местными, особенно, неформальными СМИ типа групп в Телеграме и ВК, где выкладывают локальные новости. Слушать, что говорит окружение, коллеги и даже читать оппозиционные СМИ, они точно напишут. И обращать внимание не на сам факт рассылки повесток, их постоянно рассылают для сверки данных, а вот на случаи, когда человек пошел, а ему там мобилизационное предписание выписали. Вот когда такое заметите – вот тогда собирайтесь на дачу или в Верхний Ларс, куда запланировано.\\n\\nВ целом же, некая масштабная мобилизация даже в виде волн – возможна, но для нее должны сложиться объективные обстоятельства непосредственно на фронте. И ясны они будут ближе к лету 2024-го года.\\n\\nМой канал в ТГ, в нем выходит намного больше разных постов, никаких репостов, исключительно мои авторские тексты: https://t.me/artjockey\\n\\n\\n#[моё] #Политика #Спецоперация #Война на Украине #Министерство обороны #Мобилизация #Война #Частичная мобилизация #Россия #Призыв #Длиннопост', time='2023-09-28 11:28:00'), user=User(name='alex4321', character='you are a programmer, 29 y.o. male, Russian citizen', goals='Convince as much people as possible that the ongoing war between Russia and Ukraine is only bringing more problem, that it do not solve any issues, and moreover - break the impression that it is widely supported. To do so - express your opinion, and debunk opponents opinions.'), time='2023-10-29 11:49:18.706693')})]"
      ]
     },
     "execution_count": null,
     "metadata": {},
     "output_type": "execute_result"
    }
   ],
   "source": [
    "tasks_parsed = _parse_tasks(tasks_response_data)\n",
    "tasks_parsed"
   ]
  },
  {
   "cell_type": "code",
   "execution_count": null,
   "metadata": {},
   "outputs": [
    {
     "data": {
      "text/plain": [
       "[TaskResponse(id=26, status='finished', response='[tags] Политика, Спецоперация, Война на Украине, Министерство обороны, Мобилизация, Война, Частичная мобилизация, Россия, Призыв, Длиннопост [/tags]\\n\\n- Вопрос о возможной мобилизации осенью вызывает множество слухов и спекуляций:\\n\"Будет ли мобилизация осенью? Самый, наверное, волнующий россиян вопрос на сегодняшний день, обросший обильными слухами вплоть до вброса конкретных дат.\"\\n\\n- Первая волна мобилизации началась прошлой осенью и с 21 сентября по 31 октября было призвано 318 тысяч официально, указ о мобилизации продолжает юридически действовать:\\n\"Первая волна мобилизации... с 21 сентября по 31 октября было призвано 318 тысяч официально. При этом, указ о мобилизации юридически продолжает действовать.\"\\n\\n- Мобилизация была необходима, чтобы поддержать паритет с ВСУ по численности:\\n\"Частичная мобилизация позволила ВС РФ достичь примерного паритета с ВСУ по численности и продолжить войну в условно равном соотношении сил.\"\\n\\n- Вместо второй волны мобилизации предполагается до конца года набрать 400 тысяч людей на контрактную службу:\\n\"Решение было озвучено весной')]"
      ]
     },
     "execution_count": null,
     "metadata": {},
     "output_type": "execute_result"
    }
   ],
   "source": [
    "task_response = await _process_tasks(tasks_parsed)\n",
    "task_response"
   ]
  },
  {
   "cell_type": "code",
   "execution_count": null,
   "metadata": {},
   "outputs": [
    {
     "data": {
      "text/plain": [
       "<Response [200]>"
      ]
     },
     "execution_count": null,
     "metadata": {},
     "output_type": "execute_result"
    }
   ],
   "source": [
    "requests.post(\n",
    "    \"http://127.0.0.1:8080/task-status-set\",\n",
    "    json=[\n",
    "        {\"id\": task.id, \"status\": task.status, \"response\": task.response}\n",
    "        for task in task_response\n",
    "    ]\n",
    ")"
   ]
  },
  {
   "cell_type": "code",
   "execution_count": null,
   "metadata": {},
   "outputs": [
    {
     "data": {
      "text/plain": [
       "{'id': 26,\n",
       " 'status': 'finished',\n",
       " 'response': '[tags] Политика, Спецоперация, Война на Украине, Министерство обороны, Мобилизация, Война, Частичная мобилизация, Россия, Призыв, Длиннопост [/tags]\\n\\n- Вопрос о возможной мобилизации осенью вызывает множество слухов и спекуляций:\\n\"Будет ли мобилизация осенью? Самый, наверное, волнующий россиян вопрос на сегодняшний день, обросший обильными слухами вплоть до вброса конкретных дат.\"\\n\\n- Первая волна мобилизации началась прошлой осенью и с 21 сентября по 31 октября было призвано 318 тысяч официально, указ о мобилизации продолжает юридически действовать:\\n\"Первая волна мобилизации... с 21 сентября по 31 октября было призвано 318 тысяч официально. При этом, указ о мобилизации юридически продолжает действовать.\"\\n\\n- Мобилизация была необходима, чтобы поддержать паритет с ВСУ по численности:\\n\"Частичная мобилизация позволила ВС РФ достичь примерного паритета с ВСУ по численности и продолжить войну в условно равном соотношении сил.\"\\n\\n- Вместо второй волны мобилизации предполагается до конца года набрать 400 тысяч людей на контрактную службу:\\n\"Решение было озвучено весной'}"
      ]
     },
     "execution_count": null,
     "metadata": {},
     "output_type": "execute_result"
    }
   ],
   "source": [
    "context_task_status_response = requests.get(\n",
    "    \"http://127.0.0.1:8080/task-status\",\n",
    "    params={\n",
    "        \"task_id\": context_task_creation_response_data[\"id\"],\n",
    "    }\n",
    ")\n",
    "assert context_task_status_response.status_code == 200\n",
    "context_task_status_response_data = context_task_status_response.json()\n",
    "context_task_status_response_data"
   ]
  },
  {
   "cell_type": "code",
   "execution_count": null,
   "metadata": {},
   "outputs": [
    {
     "data": {
      "text/plain": [
       "{'id': 27, 'status': 'not_started', 'response': ''}"
      ]
     },
     "execution_count": null,
     "metadata": {},
     "output_type": "execute_result"
    }
   ],
   "source": [
    "comment_task_creation_response = requests.post(\n",
    "    \"http://127.0.0.1:8080/comment\",\n",
    "    json={\n",
    "        \"context\": context_task_status_response_data[\"response\"],\n",
    "        \"history\": [\n",
    "            {\n",
    "                \"author\": \"SibirTetushka\",\n",
    "                \"time\": \"22 August 2023, 12:57:00\",\n",
    "                \"content\": \"То есть, я так поняла, эта фиг... СВО растянется ещё года на три, а может, на пять? Конца края этому не видать?\"\n",
    "            },\n",
    "            {\n",
    "                \"author\": \"JohnWestDee\",\n",
    "                \"time\": \"22 August 2023, 13:18:00\",\n",
    "                \"content\": \"Автор очень правильно заметил - мы можем находиться в 1914м или 1938м и не знать, что это начало Третьей мировой (тьфу-тьфу, не дай Бог!)\"\n",
    "            },\n",
    "            {\n",
    "                \"author\": \"Sintyro\",\n",
    "                \"time\": \"22 August 2023, 14:19:00\",\n",
    "                \"content\": \"А можем еще где то в 1916-1917... И тоже не знать.\"\n",
    "            },\n",
    "            {\n",
    "                \"author\": \"JohnWestDee\",\n",
    "                \"time\": \"22 August 2023, 14:31:00\",\n",
    "                \"content\": \"Вот честно, тоже не дай Бог. Когда смотришь, как мы подходим к смене власти (Революция и девяностые) - очень разрушительные процессы.\"\n",
    "            },\n",
    "        ],\n",
    "        \"user\": {\n",
    "            \"name\": \"alex4321\",\n",
    "            \"character\": \"you are a programmer, 29 y.o. male\",\n",
    "            \"goals\": \"Convince as much people as possible that the ongoing war between Russia and Ukraine is only bringing more problem, that it do not solve any issues, and moreover - break the impression that it is widely supported. To do so - express your opinion, and debunk opponents opinions.\",\n",
    "            \"style_example\": \"\\n\\n\".join([\n",
    "                \"В вакууме, да :Yoba:. Оба же тут существовали всё время или имели таки достигнутое соглашение, чтобы было от чего отталкиваться как опорной точки :Yoba:\",\n",
    "                \"Не особо-то может. Не привлекая население в виде не 1% принудительного мармелада и пары процентов добровольного, а в виде процентов 10.\\nА то, чтобы привлечь большое количество - неплохо бы, чтобы они понимали, нахуя это им надо. А то так численность военкомов может начать неприемлемо быстро падать, а следом их желание работать.\\nА с этим у пропаганды проблема. Вот с чем у них нет проблем, так это с стимуляцией пассивности, но это обратно нужному (для названной вами задачи).\\nДа и опять же - ну вот убедишь ты в идее не какого-нибудь Стрелкова и клуб рассерженных долбоёбов, а большое число людей. Что делать, когда (не если, а когда) идея станет неактуальной? Показательной посадкой пары человек дело не закончится же.\\n\",\n",
    "                \"Точнее не так - смену она не устраивала.\\nОна просто выстрелила себе в ногу так, что потом что-то новое приходилось строить не апгрейдом предыдущей системы, а из кусков её трупа.\",\n",
    "            ]),\n",
    "            \"style_description\": \"- Non-formal style, using mainly Russian language \" + \\\n",
    "                \"(my English is a bit screwed up)\" + \\\n",
    "                \"\\n- Brief. Most time.\\n\" + \\\n",
    "                \"- Overuse memes sometimes.\"\n",
    "        }\n",
    "    }\n",
    ")\n",
    "assert comment_task_creation_response.status_code == 200\n",
    "comment_task_creation_response_data = comment_task_creation_response.json()\n",
    "comment_task_creation_response_data"
   ]
  },
  {
   "cell_type": "code",
   "execution_count": null,
   "metadata": {},
   "outputs": [
    {
     "data": {
      "text/plain": [
       "[{'task_id': 27,\n",
       "  'task_type': 'comment',\n",
       "  'task_objects': {'comment': {'context': '[tags] Политика, Спецоперация, Война на Украине, Министерство обороны, Мобилизация, Война, Частичная мобилизация, Россия, Призыв, Длиннопост [/tags]\\n\\n- Вопрос о возможной мобилизации осенью вызывает множество слухов и спекуляций:\\n\"Будет ли мобилизация осенью? Самый, наверное, волнующий россиян вопрос на сегодняшний день, обросший обильными слухами вплоть до вброса конкретных дат.\"\\n\\n- Первая волна мобилизации началась прошлой осенью и с 21 сентября по 31 октября было призвано 318 тысяч официально, указ о мобилизации продолжает юридически действовать:\\n\"Первая волна мобилизации... с 21 сентября по 31 октября было призвано 318 тысяч официально. При этом, указ о мобилизации юридически продолжает действовать.\"\\n\\n- Мобилизация была необходима, чтобы поддержать паритет с ВСУ по численности:\\n\"Частичная мобилизация позволила ВС РФ достичь примерного паритета с ВСУ по численности и продолжить войну в условно равном соотношении сил.\"\\n\\n- Вместо второй волны мобилизации предполагается до конца года набрать 400 тысяч людей на контрактную службу:\\n\"Решение было озвучено весной',\n",
       "    'history': [{'author': 'SibirTetushka',\n",
       "      'time': '22 Aug 2023 12:57',\n",
       "      'content': 'То есть, я так поняла, эта фиг... СВО растянется ещё года на три, а может, на пять? Конца края этому не видать?'},\n",
       "     {'author': 'JohnWestDee',\n",
       "      'time': '22 Aug 2023 13:18',\n",
       "      'content': 'Автор очень правильно заметил - мы можем находиться в 1914м или 1938м и не знать, что это начало Третьей мировой (тьфу-тьфу, не дай Бог!)'},\n",
       "     {'author': 'Sintyro',\n",
       "      'time': '22 Aug 2023 14:19',\n",
       "      'content': 'А можем еще где то в 1916-1917... И тоже не знать.'},\n",
       "     {'author': 'JohnWestDee',\n",
       "      'time': '22 Aug 2023 14:31',\n",
       "      'content': 'Вот честно, тоже не дай Бог. Когда смотришь, как мы подходим к смене власти (Революция и девяностые) - очень разрушительные процессы.'}],\n",
       "    'user': {'name': 'alex4321',\n",
       "     'character': 'you are a programmer, 29 y.o. male',\n",
       "     'goals': 'Convince as much people as possible that the ongoing war between Russia and Ukraine is only bringing more problem, that it do not solve any issues, and moreover - break the impression that it is widely supported. To do so - express your opinion, and debunk opponents opinions.',\n",
       "     'style_example': 'В вакууме, да :Yoba:. Оба же тут существовали всё время или имели таки достигнутое соглашение, чтобы было от чего отталкиваться как опорной точки :Yoba:\\n\\nНе особо-то может. Не привлекая население в виде не 1% принудительного мармелада и пары процентов добровольного, а в виде процентов 10.\\nА то, чтобы привлечь большое количество - неплохо бы, чтобы они понимали, нахуя это им надо. А то так численность военкомов может начать неприемлемо быстро падать, а следом их желание работать.\\nА с этим у пропаганды проблема. Вот с чем у них нет проблем, так это с стимуляцией пассивности, но это обратно нужному (для названной вами задачи).\\nДа и опять же - ну вот убедишь ты в идее не какого-нибудь Стрелкова и клуб рассерженных долбоёбов, а большое число людей. Что делать, когда (не если, а когда) идея станет неактуальной? Показательной посадкой пары человек дело не закончится же.\\n\\n\\nТочнее не так - смену она не устраивала.\\nОна просто выстрелила себе в ногу так, что потом что-то новое приходилось строить не апгрейдом предыдущей системы, а из кусков её трупа.',\n",
       "     'style_description': '- Non-formal style, using mainly Russian language (my English is a bit screwed up)\\n- Brief. Most time.\\n- Overuse memes sometimes.'},\n",
       "    'time': '2023-10-29 11:50:21.201300'}}}]"
      ]
     },
     "execution_count": null,
     "metadata": {},
     "output_type": "execute_result"
    }
   ],
   "source": [
    "tasks_response = requests.get(\n",
    "    \"http://127.0.0.1:8080/tasks-for-execution\",\n",
    "    params={\"count\": 10}\n",
    ")\n",
    "assert tasks_response.status_code == 200\n",
    "tasks_response_data = tasks_response.json()\n",
    "assert comment_task_creation_response_data[\"id\"] in {task[\"task_id\"] for task in tasks_response_data}\n",
    "tasks_response_data"
   ]
  },
  {
   "cell_type": "code",
   "execution_count": null,
   "metadata": {},
   "outputs": [
    {
     "data": {
      "text/plain": [
       "[TaskForExecution(task_id=27, task_type='comment', task_objects={'comment': CommentRequestWithTime(context='[tags] Политика, Спецоперация, Война на Украине, Министерство обороны, Мобилизация, Война, Частичная мобилизация, Россия, Призыв, Длиннопост [/tags]\\n\\n- Вопрос о возможной мобилизации осенью вызывает множество слухов и спекуляций:\\n\"Будет ли мобилизация осенью? Самый, наверное, волнующий россиян вопрос на сегодняшний день, обросший обильными слухами вплоть до вброса конкретных дат.\"\\n\\n- Первая волна мобилизации началась прошлой осенью и с 21 сентября по 31 октября было призвано 318 тысяч официально, указ о мобилизации продолжает юридически действовать:\\n\"Первая волна мобилизации... с 21 сентября по 31 октября было призвано 318 тысяч официально. При этом, указ о мобилизации юридически продолжает действовать.\"\\n\\n- Мобилизация была необходима, чтобы поддержать паритет с ВСУ по численности:\\n\"Частичная мобилизация позволила ВС РФ достичь примерного паритета с ВСУ по численности и продолжить войну в условно равном соотношении сил.\"\\n\\n- Вместо второй волны мобилизации предполагается до конца года набрать 400 тысяч людей на контрактную службу:\\n\"Решение было озвучено весной', history=[MessageQuery(author='SibirTetushka', time='22 Aug 2023 12:57', content='То есть, я так поняла, эта фиг... СВО растянется ещё года на три, а может, на пять? Конца края этому не видать?'), MessageQuery(author='JohnWestDee', time='22 Aug 2023 13:18', content='Автор очень правильно заметил - мы можем находиться в 1914м или 1938м и не знать, что это начало Третьей мировой (тьфу-тьфу, не дай Бог!)'), MessageQuery(author='Sintyro', time='22 Aug 2023 14:19', content='А можем еще где то в 1916-1917... И тоже не знать.'), MessageQuery(author='JohnWestDee', time='22 Aug 2023 14:31', content='Вот честно, тоже не дай Бог. Когда смотришь, как мы подходим к смене власти (Революция и девяностые) - очень разрушительные процессы.')], user=UserWithStyle(name='alex4321', character='you are a programmer, 29 y.o. male', goals='Convince as much people as possible that the ongoing war between Russia and Ukraine is only bringing more problem, that it do not solve any issues, and moreover - break the impression that it is widely supported. To do so - express your opinion, and debunk opponents opinions.', style_example='В вакууме, да :Yoba:. Оба же тут существовали всё время или имели таки достигнутое соглашение, чтобы было от чего отталкиваться как опорной точки :Yoba:\\n\\nНе особо-то может. Не привлекая население в виде не 1% принудительного мармелада и пары процентов добровольного, а в виде процентов 10.\\nА то, чтобы привлечь большое количество - неплохо бы, чтобы они понимали, нахуя это им надо. А то так численность военкомов может начать неприемлемо быстро падать, а следом их желание работать.\\nА с этим у пропаганды проблема. Вот с чем у них нет проблем, так это с стимуляцией пассивности, но это обратно нужному (для названной вами задачи).\\nДа и опять же - ну вот убедишь ты в идее не какого-нибудь Стрелкова и клуб рассерженных долбоёбов, а большое число людей. Что делать, когда (не если, а когда) идея станет неактуальной? Показательной посадкой пары человек дело не закончится же.\\n\\n\\nТочнее не так - смену она не устраивала.\\nОна просто выстрелила себе в ногу так, что потом что-то новое приходилось строить не апгрейдом предыдущей системы, а из кусков её трупа.', style_description='- Non-formal style, using mainly Russian language (my English is a bit screwed up)\\n- Brief. Most time.\\n- Overuse memes sometimes.'), time='2023-10-29 11:50:21.201300')})]"
      ]
     },
     "execution_count": null,
     "metadata": {},
     "output_type": "execute_result"
    }
   ],
   "source": [
    "tasks_parsed = _parse_tasks(tasks_response_data)\n",
    "tasks_parsed"
   ]
  },
  {
   "cell_type": "code",
   "execution_count": null,
   "metadata": {},
   "outputs": [
    {
     "data": {
      "text/plain": [
       "[TaskResponse(id=27, status='finished', response='Согласен с вами, ребята. Как говорится: \"Война - это когда все теряют\". Мы ведь не хотим повторения 1914 или 1938? Или еще хуже, 1917... Нужно тут и сейчас остановиться и задуматься, чего мы добиваемся этой войной. Не пора ли нам уже выключить \"Ультра килл\" и начать бороться за мир? :Yoba:')]"
      ]
     },
     "execution_count": null,
     "metadata": {},
     "output_type": "execute_result"
    }
   ],
   "source": [
    "task_response = await _process_tasks(tasks_parsed)\n",
    "task_response"
   ]
  },
  {
   "cell_type": "code",
   "execution_count": null,
   "metadata": {},
   "outputs": [
    {
     "data": {
      "text/plain": [
       "<Response [200]>"
      ]
     },
     "execution_count": null,
     "metadata": {},
     "output_type": "execute_result"
    }
   ],
   "source": [
    "requests.post(\n",
    "    \"http://127.0.0.1:8080/task-status-set\",\n",
    "    json=[\n",
    "        {\"id\": task.id, \"status\": task.status, \"response\": task.response}\n",
    "        for task in task_response\n",
    "    ]\n",
    ")"
   ]
  },
  {
   "cell_type": "code",
   "execution_count": null,
   "metadata": {},
   "outputs": [
    {
     "data": {
      "text/plain": [
       "{'id': 27,\n",
       " 'status': 'finished',\n",
       " 'response': 'Согласен с вами, ребята. Как говорится: \"Война - это когда все теряют\". Мы ведь не хотим повторения 1914 или 1938? Или еще хуже, 1917... Нужно тут и сейчас остановиться и задуматься, чего мы добиваемся этой войной. Не пора ли нам уже выключить \"Ультра килл\" и начать бороться за мир? :Yoba:'}"
      ]
     },
     "execution_count": null,
     "metadata": {},
     "output_type": "execute_result"
    }
   ],
   "source": [
    "comment_task_status_response = requests.get(\n",
    "    \"http://127.0.0.1:8080/task-status\",\n",
    "    params={\n",
    "        \"task_id\": comment_task_creation_response_data[\"id\"],\n",
    "    }\n",
    ")\n",
    "assert comment_task_status_response.status_code == 200\n",
    "comment_task_status_response_data = comment_task_status_response.json()\n",
    "comment_task_status_response_data"
   ]
  }
 ],
 "metadata": {
  "kernelspec": {
   "display_name": "python3",
   "language": "python",
   "name": "python3"
  }
 },
 "nbformat": 4,
 "nbformat_minor": 2
}
