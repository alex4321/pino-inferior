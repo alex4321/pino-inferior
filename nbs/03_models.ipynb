{
 "cells": [
  {
   "cell_type": "markdown",
   "metadata": {},
   "source": [
    "# Database models\n",
    "\n",
    "> This module contains ORM models for the project entities"
   ]
  },
  {
   "cell_type": "markdown",
   "metadata": {},
   "source": [
    "## Implementation"
   ]
  },
  {
   "cell_type": "code",
   "execution_count": null,
   "metadata": {},
   "outputs": [],
   "source": [
    "#| default_exp models"
   ]
  },
  {
   "cell_type": "code",
   "execution_count": null,
   "metadata": {},
   "outputs": [],
   "source": [
    "#| export\n",
    "from sqlalchemy.ext.declarative import declarative_base\n",
    "from sqlalchemy import Column, Integer, Text, String, JSON, DateTime, ForeignKey, UniqueConstraint, PrimaryKeyConstraint, \\\n",
    "    create_engine\n",
    "from sqlalchemy.ext.asyncio import create_async_engine\n",
    "from sqlalchemy.orm import relationship\n",
    "from pino_inferior.core import SQLALCHEMY_CONNECTION_STRING"
   ]
  },
  {
   "cell_type": "code",
   "execution_count": null,
   "metadata": {},
   "outputs": [],
   "source": [
    "#| export\n",
    "aengine = create_async_engine(url=SQLALCHEMY_CONNECTION_STRING)"
   ]
  },
  {
   "cell_type": "code",
   "execution_count": null,
   "metadata": {},
   "outputs": [
    {
     "name": "stderr",
     "output_type": "stream",
     "text": [
      "C:\\Users\\alex4321\\AppData\\Local\\Temp\\ipykernel_18764\\3325957931.py:2: MovedIn20Warning: Deprecated API features detected! These feature(s) are not compatible with SQLAlchemy 2.0. To prevent incompatible upgrades prior to updating applications, ensure requirements files are pinned to \"sqlalchemy<2.0\". Set environment variable SQLALCHEMY_WARN_20=1 to show all deprecation warnings.  Set environment variable SQLALCHEMY_SILENCE_UBER_WARNING=1 to silence this message. (Background on SQLAlchemy 2.0 at: https://sqlalche.me/e/b8d9)\n",
      "  Base = declarative_base()\n"
     ]
    }
   ],
   "source": [
    "#| export\n",
    "Base = declarative_base()"
   ]
  },
  {
   "cell_type": "code",
   "execution_count": null,
   "metadata": {},
   "outputs": [],
   "source": [
    "#| export\n",
    "class ParagraphMemoryRecord(Base):\n",
    "    \"\"\"\n",
    "    Memory system operates on document paragraph level in SQL database and sentences in vector DB.\n",
    "    So:\n",
    "    1. query is converted to an embedding\n",
    "    2. than vector DB finds most similar sentences\n",
    "    3. than corresponding paragraph extracted from SQL database\n",
    "    And vice versa for storing.\n",
    "    This ORM entity related to the last entity (SQL database records regards paragraphs).\n",
    "    \"\"\"\n",
    "    __tablename__ = \"memory_records\"\n",
    "    id = Column(Integer, primary_key=True, autoincrement=True)\n",
    "    text = Column(Text)\n",
    "    meta = Column(JSON)\n",
    "    md5 = Column(String(64))\n",
    "    created_at = Column(DateTime)\n",
    "\n",
    "    __table_args__ = (\n",
    "        UniqueConstraint('md5', 'text', name='_md5_text_uc'),\n",
    "    )"
   ]
  },
  {
   "cell_type": "code",
   "execution_count": null,
   "metadata": {},
   "outputs": [],
   "source": [
    "#| export\n",
    "class APICommentQuery(Base):\n",
    "    __tablename__ = \"comment_query\"\n",
    "    query_id = Column(Integer, primary_key=True, autoincrement=True)\n",
    "    \n",
    "    time = Column(DateTime)\n",
    "    context = Column(Text)\n",
    "    history = Column(JSON)\n",
    "\n",
    "    user_name = Column(Text)\n",
    "    user_character = Column(Text)\n",
    "    user_goals = Column(Text)\n",
    "    user_style_example = Column(Text)\n",
    "    user_style_description = Column(Text)\n",
    "    #AGENT_INPUT_FALLACIES: read_fallacies(FALLACIES_FNAME),\n",
    "    #AGENT_INPUT_TOOLS: [fallacy_tool, memory_tool,],\n",
    "    "
   ]
  },
  {
   "cell_type": "code",
   "execution_count": null,
   "metadata": {},
   "outputs": [],
   "source": [
    "#| export\n",
    "class APIContextSummarizationQuery(Base):\n",
    "    __tablename__ = \"context_summary_query\"\n",
    "    query_id = Column(Integer, primary_key=True, autoincrement=True)\n",
    "    text = Column(Text)\n",
    "    time = Column(DateTime)\n",
    "    post_time = Column(DateTime)\n",
    "\n",
    "    user_name = Column(Text)\n",
    "    user_character = Column(Text)\n",
    "    user_goals = Column(Text)"
   ]
  },
  {
   "cell_type": "code",
   "execution_count": null,
   "metadata": {},
   "outputs": [],
   "source": [
    "#| export\n",
    "class APITask(Base):\n",
    "    __tablename__ = \"api_task\"\n",
    "    task_id = Column(Integer, primary_key=True, autoincrement=True)\n",
    "    created_at = Column(DateTime)\n",
    "    updated_at = Column(DateTime)\n",
    "    status = Column(Integer)\n",
    "    response = Column(Text)"
   ]
  },
  {
   "cell_type": "code",
   "execution_count": null,
   "metadata": {},
   "outputs": [],
   "source": [
    "#| export\n",
    "class APICommentQueryTaskMapping(Base):\n",
    "    __tablename__ = \"api_comment_task\"\n",
    "    comment_id = Column(Integer, ForeignKey(f\"{APICommentQuery.__tablename__}.query_id\"))\n",
    "    task_id = Column(Integer, ForeignKey(f\"{APITask.__tablename__}.task_id\"))\n",
    "\n",
    "    __table_args__ = (\n",
    "        PrimaryKeyConstraint(\n",
    "            \"comment_id\",\n",
    "            \"task_id\",\n",
    "            name=\"pk_cid_tid\"\n",
    "        ),\n",
    "        UniqueConstraint(\n",
    "            \"task_id\",\n",
    "            name=\"unique_tid\",\n",
    "        ),\n",
    "    )"
   ]
  },
  {
   "cell_type": "code",
   "execution_count": null,
   "metadata": {},
   "outputs": [],
   "source": [
    "#| export\n",
    "class APIContextSummarizationTaskMapping(Base):\n",
    "    __tablename__ = \"api_context_task\"\n",
    "    context_id = Column(Integer, ForeignKey(f\"{APIContextSummarizationQuery.__tablename__}.query_id\"))\n",
    "    task_id = Column(Integer, ForeignKey(f\"{APITask.__tablename__}.task_id\"))\n",
    "    \n",
    "    __table_args__ = (\n",
    "        PrimaryKeyConstraint(\n",
    "            \"context_id\",\n",
    "            \"task_id\",\n",
    "            name=\"pk_cid_tid\"\n",
    "        ),\n",
    "        UniqueConstraint(\n",
    "            \"task_id\",\n",
    "            name=\"unique_tid\",\n",
    "        ),\n",
    "    )"
   ]
  },
  {
   "cell_type": "code",
   "execution_count": null,
   "metadata": {},
   "outputs": [],
   "source": [
    "import nbdev; nbdev.nbdev_export()"
   ]
  }
 ],
 "metadata": {
  "kernelspec": {
   "display_name": "python3",
   "language": "python",
   "name": "python3"
  }
 },
 "nbformat": 4,
 "nbformat_minor": 2
}
