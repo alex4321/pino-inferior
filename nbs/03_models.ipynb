{
 "cells": [
  {
   "cell_type": "markdown",
   "metadata": {},
   "source": [
    "# Database models\n",
    "\n",
    "> This module contains ORM models for the project entities"
   ]
  },
  {
   "cell_type": "markdown",
   "metadata": {},
   "source": [
    "## Implementation"
   ]
  },
  {
   "cell_type": "code",
   "execution_count": null,
   "metadata": {},
   "outputs": [],
   "source": [
    "#| default_exp models"
   ]
  },
  {
   "cell_type": "code",
   "execution_count": null,
   "metadata": {},
   "outputs": [],
   "source": [
    "#| export\n",
    "from sqlalchemy.ext.declarative import declarative_base\n",
    "from sqlalchemy import Column, Integer, Text, String, JSON, DateTime, ForeignKey, UniqueConstraint, PrimaryKeyConstraint, \\\n",
    "    create_engine\n",
    "from sqlalchemy.ext.asyncio import create_async_engine\n",
    "from sqlalchemy.orm import relationship\n",
    "from pino_inferior.core import SQLALCHEMY_CONNECTION_STRING"
   ]
  },
  {
   "cell_type": "code",
   "execution_count": null,
   "metadata": {},
   "outputs": [],
   "source": [
    "#| export\n",
    "aengine = create_async_engine(url=SQLALCHEMY_CONNECTION_STRING)"
   ]
  },
  {
   "cell_type": "code",
   "execution_count": null,
   "metadata": {},
   "outputs": [
    {
     "name": "stderr",
     "output_type": "stream",
     "text": [
      "C:\\Users\\alex4321\\AppData\\Local\\Temp\\ipykernel_20132\\3325957931.py:2: MovedIn20Warning: Deprecated API features detected! These feature(s) are not compatible with SQLAlchemy 2.0. To prevent incompatible upgrades prior to updating applications, ensure requirements files are pinned to \"sqlalchemy<2.0\". Set environment variable SQLALCHEMY_WARN_20=1 to show all deprecation warnings.  Set environment variable SQLALCHEMY_SILENCE_UBER_WARNING=1 to silence this message. (Background on SQLAlchemy 2.0 at: https://sqlalche.me/e/b8d9)\n",
      "  Base = declarative_base()\n"
     ]
    }
   ],
   "source": [
    "#| export\n",
    "Base = declarative_base()"
   ]
  },
  {
   "cell_type": "code",
   "execution_count": null,
   "metadata": {},
   "outputs": [],
   "source": [
    "#| export\n",
    "class ParagraphMemoryRecord(Base):\n",
    "    \"\"\"\n",
    "    Memory system operates on document paragraph level in SQL database and sentences in vector DB.\n",
    "    So:\n",
    "    1. query is converted to an embedding\n",
    "    2. than vector DB finds most similar sentences\n",
    "    3. than corresponding paragraph extracted from SQL database\n",
    "    And vice versa for storing.\n",
    "    This ORM entity related to the last entity (SQL database records regards paragraphs).\n",
    "    \"\"\"\n",
    "    __tablename__ = \"memory_records\"\n",
    "    id = Column(Integer, primary_key=True, autoincrement=True)\n",
    "    text = Column(Text)\n",
    "    meta = Column(JSON)\n",
    "    md5 = Column(String(64))\n",
    "    created_at = Column(DateTime)\n",
    "\n",
    "    __table_args__ = (\n",
    "        UniqueConstraint('md5', 'text', name='_md5_text_uc'),\n",
    "    )"
   ]
  },
  {
   "cell_type": "code",
   "execution_count": null,
   "metadata": {},
   "outputs": [],
   "source": [
    "#| export\n",
    "class APICommentQuery(Base):\n",
    "    __tablename__ = \"comment_query\"\n",
    "    query_id = Column(Integer, primary_key=True, autoincrement=True)\n",
    "    \n",
    "    time = Column(DateTime)\n",
    "    context = Column(Text)\n",
    "    history = Column(JSON)\n",
    "\n",
    "    user_name = Column(Text)\n",
    "    user_character = Column(Text)\n",
    "    user_goals = Column(Text)\n",
    "    user_style_example = Column(Text)\n",
    "    user_style_description = Column(Text)\n",
    "    #AGENT_INPUT_FALLACIES: read_fallacies(FALLACIES_FNAME),\n",
    "    #AGENT_INPUT_TOOLS: [fallacy_tool, memory_tool,],\n",
    "    "
   ]
  },
  {
   "cell_type": "code",
   "execution_count": null,
   "metadata": {},
   "outputs": [],
   "source": [
    "#| export\n",
    "class APIContextSummarizationQuery(Base):\n",
    "    __tablename__ = \"context_summary_query\"\n",
    "    query_id = Column(Integer, primary_key=True, autoincrement=True)\n",
    "    text = Column(Text)\n",
    "    time = Column(DateTime)\n",
    "    post_time = Column(DateTime)\n",
    "\n",
    "    user_name = Column(Text)\n",
    "    user_character = Column(Text)\n",
    "    user_goals = Column(Text)"
   ]
  },
  {
   "cell_type": "code",
   "execution_count": null,
   "metadata": {},
   "outputs": [],
   "source": [
    "#| export\n",
    "class APITask(Base):\n",
    "    __tablename__ = \"api_task\"\n",
    "    task_id = Column(Integer, primary_key=True, autoincrement=True)\n",
    "    created_at = Column(DateTime)\n",
    "    updated_at = Column(DateTime)\n",
    "    status = Column(Integer)\n",
    "    response = Column(Text)"
   ]
  },
  {
   "cell_type": "code",
   "execution_count": null,
   "metadata": {},
   "outputs": [],
   "source": [
    "#| export\n",
    "class APICommentQueryTaskMapping(Base):\n",
    "    __tablename__ = \"api_comment_task\"\n",
    "    comment_id = Column(Integer, ForeignKey(f\"{APICommentQuery.__tablename__}.query_id\"))\n",
    "    task_id = Column(Integer, ForeignKey(f\"{APITask.__tablename__}.task_id\"))\n",
    "\n",
    "    __table_args__ = (\n",
    "        PrimaryKeyConstraint(\n",
    "            \"comment_id\",\n",
    "            \"task_id\",\n",
    "            name=\"pk_cid_tid\"\n",
    "        ),\n",
    "        UniqueConstraint(\n",
    "            \"task_id\",\n",
    "            name=\"unique_tid\",\n",
    "        ),\n",
    "    )"
   ]
  },
  {
   "cell_type": "code",
   "execution_count": null,
   "metadata": {},
   "outputs": [],
   "source": [
    "#| export\n",
    "class APIContextSummarizationTaskMapping(Base):\n",
    "    __tablename__ = \"api_context_task\"\n",
    "    context_id = Column(Integer, ForeignKey(f\"{APIContextSummarizationQuery.__tablename__}.query_id\"))\n",
    "    task_id = Column(Integer, ForeignKey(f\"{APITask.__tablename__}.task_id\"))\n",
    "    \n",
    "    __table_args__ = (\n",
    "        PrimaryKeyConstraint(\n",
    "            \"context_id\",\n",
    "            \"task_id\",\n",
    "            name=\"pk_cid_tid\"\n",
    "        ),\n",
    "        UniqueConstraint(\n",
    "            \"task_id\",\n",
    "            name=\"unique_tid\",\n",
    "        ),\n",
    "    )"
   ]
  },
  {
   "cell_type": "code",
   "execution_count": null,
   "metadata": {},
   "outputs": [
    {
     "ename": "ArgumentError",
     "evalue": "Mapper mapped class APILog->log_records could not assemble any primary key columns for mapped table 'log_records'",
     "output_type": "error",
     "traceback": [
      "\u001b[1;31m---------------------------------------------------------------------------\u001b[0m",
      "\u001b[1;31mArgumentError\u001b[0m                             Traceback (most recent call last)",
      "\u001b[1;32mf:\\Projects\\pino-inferior\\nbs\\03_models.ipynb Cell 13\u001b[0m line \u001b[0;36m2\n\u001b[0;32m      <a href='vscode-notebook-cell:/f%3A/Projects/pino-inferior/nbs/03_models.ipynb#X30sZmlsZQ%3D%3D?line=0'>1</a>\u001b[0m \u001b[39m#| export\u001b[39;00m\n\u001b[1;32m----> <a href='vscode-notebook-cell:/f%3A/Projects/pino-inferior/nbs/03_models.ipynb#X30sZmlsZQ%3D%3D?line=1'>2</a>\u001b[0m \u001b[39mclass\u001b[39;49;00m \u001b[39mAPILog\u001b[39;49;00m(Base):\n\u001b[0;32m      <a href='vscode-notebook-cell:/f%3A/Projects/pino-inferior/nbs/03_models.ipynb#X30sZmlsZQ%3D%3D?line=2'>3</a>\u001b[0m     __tablename__ \u001b[39m=\u001b[39;49m \u001b[39m\"\u001b[39;49m\u001b[39mlog_records\u001b[39;49m\u001b[39m\"\u001b[39;49m\n\u001b[0;32m      <a href='vscode-notebook-cell:/f%3A/Projects/pino-inferior/nbs/03_models.ipynb#X30sZmlsZQ%3D%3D?line=3'>4</a>\u001b[0m     task_id \u001b[39m=\u001b[39;49m Column(Integer, ForeignKey(\u001b[39mf\u001b[39;49m\u001b[39m\"\u001b[39;49m\u001b[39m{\u001b[39;49;00mAPITask\u001b[39m.\u001b[39;49m__tablename__\u001b[39m}\u001b[39;49;00m\u001b[39m.task_id\u001b[39;49m\u001b[39m\"\u001b[39;49m))\n",
      "File \u001b[1;32mc:\\Users\\alex4321\\anaconda3\\envs\\pino-inferior\\Lib\\site-packages\\sqlalchemy\\orm\\decl_api.py:76\u001b[0m, in \u001b[0;36mDeclarativeMeta.__init__\u001b[1;34m(cls, classname, bases, dict_, **kw)\u001b[0m\n\u001b[0;32m     73\u001b[0m         \u001b[39mcls\u001b[39m\u001b[39m.\u001b[39m_sa_registry \u001b[39m=\u001b[39m reg\n\u001b[0;32m     75\u001b[0m \u001b[39mif\u001b[39;00m \u001b[39mnot\u001b[39;00m \u001b[39mcls\u001b[39m\u001b[39m.\u001b[39m\u001b[39m__dict__\u001b[39m\u001b[39m.\u001b[39mget(\u001b[39m\"\u001b[39m\u001b[39m__abstract__\u001b[39m\u001b[39m\"\u001b[39m, \u001b[39mFalse\u001b[39;00m):\n\u001b[1;32m---> 76\u001b[0m     _as_declarative(reg, \u001b[39mcls\u001b[39;49m, dict_)\n\u001b[0;32m     77\u001b[0m \u001b[39mtype\u001b[39m\u001b[39m.\u001b[39m\u001b[39m__init__\u001b[39m(\u001b[39mcls\u001b[39m, classname, bases, dict_)\n",
      "File \u001b[1;32mc:\\Users\\alex4321\\anaconda3\\envs\\pino-inferior\\Lib\\site-packages\\sqlalchemy\\orm\\decl_base.py:126\u001b[0m, in \u001b[0;36m_as_declarative\u001b[1;34m(registry, cls, dict_)\u001b[0m\n\u001b[0;32m    121\u001b[0m \u001b[39mdef\u001b[39;00m \u001b[39m_as_declarative\u001b[39m(registry, \u001b[39mcls\u001b[39m, dict_):\n\u001b[0;32m    122\u001b[0m \n\u001b[0;32m    123\u001b[0m     \u001b[39m# declarative scans the class for attributes.  no table or mapper\u001b[39;00m\n\u001b[0;32m    124\u001b[0m     \u001b[39m# args passed separately.\u001b[39;00m\n\u001b[1;32m--> 126\u001b[0m     \u001b[39mreturn\u001b[39;00m _MapperConfig\u001b[39m.\u001b[39;49msetup_mapping(registry, \u001b[39mcls\u001b[39;49m, dict_, \u001b[39mNone\u001b[39;49;00m, {})\n",
      "File \u001b[1;32mc:\\Users\\alex4321\\anaconda3\\envs\\pino-inferior\\Lib\\site-packages\\sqlalchemy\\orm\\decl_base.py:183\u001b[0m, in \u001b[0;36m_MapperConfig.setup_mapping\u001b[1;34m(cls, registry, cls_, dict_, table, mapper_kw)\u001b[0m\n\u001b[0;32m    180\u001b[0m \u001b[39melse\u001b[39;00m:\n\u001b[0;32m    181\u001b[0m     cfg_cls \u001b[39m=\u001b[39m _ClassScanMapperConfig\n\u001b[1;32m--> 183\u001b[0m \u001b[39mreturn\u001b[39;00m cfg_cls(registry, cls_, dict_, table, mapper_kw)\n",
      "File \u001b[1;32mc:\\Users\\alex4321\\anaconda3\\envs\\pino-inferior\\Lib\\site-packages\\sqlalchemy\\orm\\decl_base.py:335\u001b[0m, in \u001b[0;36m_ClassScanMapperConfig.__init__\u001b[1;34m(self, registry, cls_, dict_, table, mapper_kw)\u001b[0m\n\u001b[0;32m    331\u001b[0m \u001b[39mself\u001b[39m\u001b[39m.\u001b[39m_setup_table(table)\n\u001b[0;32m    333\u001b[0m \u001b[39mself\u001b[39m\u001b[39m.\u001b[39m_setup_inheritance(mapper_kw)\n\u001b[1;32m--> 335\u001b[0m \u001b[39mself\u001b[39;49m\u001b[39m.\u001b[39;49m_early_mapping(mapper_kw)\n",
      "File \u001b[1;32mc:\\Users\\alex4321\\anaconda3\\envs\\pino-inferior\\Lib\\site-packages\\sqlalchemy\\orm\\decl_base.py:215\u001b[0m, in \u001b[0;36m_MapperConfig._early_mapping\u001b[1;34m(self, mapper_kw)\u001b[0m\n\u001b[0;32m    214\u001b[0m \u001b[39mdef\u001b[39;00m \u001b[39m_early_mapping\u001b[39m(\u001b[39mself\u001b[39m, mapper_kw):\n\u001b[1;32m--> 215\u001b[0m     \u001b[39mself\u001b[39;49m\u001b[39m.\u001b[39;49mmap(mapper_kw)\n",
      "File \u001b[1;32mc:\\Users\\alex4321\\anaconda3\\envs\\pino-inferior\\Lib\\site-packages\\sqlalchemy\\orm\\decl_base.py:1047\u001b[0m, in \u001b[0;36m_ClassScanMapperConfig.map\u001b[1;34m(self, mapper_kw)\u001b[0m\n\u001b[0;32m   1042\u001b[0m \u001b[39melse\u001b[39;00m:\n\u001b[0;32m   1043\u001b[0m     mapper_cls \u001b[39m=\u001b[39m mapper\n\u001b[0;32m   1045\u001b[0m \u001b[39mreturn\u001b[39;00m \u001b[39mself\u001b[39m\u001b[39m.\u001b[39mset_cls_attribute(\n\u001b[0;32m   1046\u001b[0m     \u001b[39m\"\u001b[39m\u001b[39m__mapper__\u001b[39m\u001b[39m\"\u001b[39m,\n\u001b[1;32m-> 1047\u001b[0m     mapper_cls(\u001b[39mself\u001b[39;49m\u001b[39m.\u001b[39;49mcls, \u001b[39mself\u001b[39;49m\u001b[39m.\u001b[39;49mlocal_table, \u001b[39m*\u001b[39;49m\u001b[39m*\u001b[39;49m\u001b[39mself\u001b[39;49m\u001b[39m.\u001b[39;49mmapper_args),\n\u001b[0;32m   1048\u001b[0m )\n",
      "File \u001b[1;32m<string>:2\u001b[0m, in \u001b[0;36m__init__\u001b[1;34m(self, class_, local_table, properties, primary_key, non_primary, inherits, inherit_condition, inherit_foreign_keys, always_refresh, version_id_col, version_id_generator, polymorphic_on, _polymorphic_map, polymorphic_identity, concrete, with_polymorphic, polymorphic_load, allow_partial_pks, batch, column_prefix, include_properties, exclude_properties, passive_updates, passive_deletes, confirm_deleted_rows, eager_defaults, legacy_is_orphan, _compiled_cache_size)\u001b[0m\n",
      "File \u001b[1;32mc:\\Users\\alex4321\\anaconda3\\envs\\pino-inferior\\Lib\\site-packages\\sqlalchemy\\util\\deprecations.py:375\u001b[0m, in \u001b[0;36mdeprecated_params.<locals>.decorate.<locals>.warned\u001b[1;34m(fn, *args, **kwargs)\u001b[0m\n\u001b[0;32m    368\u001b[0m     \u001b[39mif\u001b[39;00m m \u001b[39min\u001b[39;00m kwargs:\n\u001b[0;32m    369\u001b[0m         _warn_with_version(\n\u001b[0;32m    370\u001b[0m             messages[m],\n\u001b[0;32m    371\u001b[0m             versions[m],\n\u001b[0;32m    372\u001b[0m             version_warnings[m],\n\u001b[0;32m    373\u001b[0m             stacklevel\u001b[39m=\u001b[39m\u001b[39m3\u001b[39m,\n\u001b[0;32m    374\u001b[0m         )\n\u001b[1;32m--> 375\u001b[0m \u001b[39mreturn\u001b[39;00m fn(\u001b[39m*\u001b[39;49margs, \u001b[39m*\u001b[39;49m\u001b[39m*\u001b[39;49mkwargs)\n",
      "File \u001b[1;32mc:\\Users\\alex4321\\anaconda3\\envs\\pino-inferior\\Lib\\site-packages\\sqlalchemy\\orm\\mapper.py:693\u001b[0m, in \u001b[0;36mMapper.__init__\u001b[1;34m(self, class_, local_table, properties, primary_key, non_primary, inherits, inherit_condition, inherit_foreign_keys, always_refresh, version_id_col, version_id_generator, polymorphic_on, _polymorphic_map, polymorphic_identity, concrete, with_polymorphic, polymorphic_load, allow_partial_pks, batch, column_prefix, include_properties, exclude_properties, passive_updates, passive_deletes, confirm_deleted_rows, eager_defaults, legacy_is_orphan, _compiled_cache_size)\u001b[0m\n\u001b[0;32m    691\u001b[0m \u001b[39mself\u001b[39m\u001b[39m.\u001b[39m_configure_properties()\n\u001b[0;32m    692\u001b[0m \u001b[39mself\u001b[39m\u001b[39m.\u001b[39m_configure_polymorphic_setter()\n\u001b[1;32m--> 693\u001b[0m \u001b[39mself\u001b[39;49m\u001b[39m.\u001b[39;49m_configure_pks()\n\u001b[0;32m    694\u001b[0m \u001b[39mself\u001b[39m\u001b[39m.\u001b[39mregistry\u001b[39m.\u001b[39m_flag_new_mapper(\u001b[39mself\u001b[39m)\n\u001b[0;32m    695\u001b[0m \u001b[39mself\u001b[39m\u001b[39m.\u001b[39m_log(\u001b[39m\"\u001b[39m\u001b[39mconstructed\u001b[39m\u001b[39m\"\u001b[39m)\n",
      "File \u001b[1;32mc:\\Users\\alex4321\\anaconda3\\envs\\pino-inferior\\Lib\\site-packages\\sqlalchemy\\orm\\mapper.py:1400\u001b[0m, in \u001b[0;36mMapper._configure_pks\u001b[1;34m(self)\u001b[0m\n\u001b[0;32m   1395\u001b[0m \u001b[39m# otherwise, see that we got a full PK for the mapped table\u001b[39;00m\n\u001b[0;32m   1396\u001b[0m \u001b[39melif\u001b[39;00m (\n\u001b[0;32m   1397\u001b[0m     \u001b[39mself\u001b[39m\u001b[39m.\u001b[39mpersist_selectable \u001b[39mnot\u001b[39;00m \u001b[39min\u001b[39;00m \u001b[39mself\u001b[39m\u001b[39m.\u001b[39m_pks_by_table\n\u001b[0;32m   1398\u001b[0m     \u001b[39mor\u001b[39;00m \u001b[39mlen\u001b[39m(\u001b[39mself\u001b[39m\u001b[39m.\u001b[39m_pks_by_table[\u001b[39mself\u001b[39m\u001b[39m.\u001b[39mpersist_selectable]) \u001b[39m==\u001b[39m \u001b[39m0\u001b[39m\n\u001b[0;32m   1399\u001b[0m ):\n\u001b[1;32m-> 1400\u001b[0m     \u001b[39mraise\u001b[39;00m sa_exc\u001b[39m.\u001b[39mArgumentError(\n\u001b[0;32m   1401\u001b[0m         \u001b[39m\"\u001b[39m\u001b[39mMapper \u001b[39m\u001b[39m%s\u001b[39;00m\u001b[39m could not assemble any primary \u001b[39m\u001b[39m\"\u001b[39m\n\u001b[0;32m   1402\u001b[0m         \u001b[39m\"\u001b[39m\u001b[39mkey columns for mapped table \u001b[39m\u001b[39m'\u001b[39m\u001b[39m%s\u001b[39;00m\u001b[39m'\u001b[39m\u001b[39m\"\u001b[39m\n\u001b[0;32m   1403\u001b[0m         \u001b[39m%\u001b[39m (\u001b[39mself\u001b[39m, \u001b[39mself\u001b[39m\u001b[39m.\u001b[39mpersist_selectable\u001b[39m.\u001b[39mdescription)\n\u001b[0;32m   1404\u001b[0m     )\n\u001b[0;32m   1405\u001b[0m \u001b[39melif\u001b[39;00m \u001b[39mself\u001b[39m\u001b[39m.\u001b[39mlocal_table \u001b[39mnot\u001b[39;00m \u001b[39min\u001b[39;00m \u001b[39mself\u001b[39m\u001b[39m.\u001b[39m_pks_by_table \u001b[39mand\u001b[39;00m \u001b[39misinstance\u001b[39m(\n\u001b[0;32m   1406\u001b[0m     \u001b[39mself\u001b[39m\u001b[39m.\u001b[39mlocal_table, schema\u001b[39m.\u001b[39mTable\n\u001b[0;32m   1407\u001b[0m ):\n\u001b[0;32m   1408\u001b[0m     util\u001b[39m.\u001b[39mwarn(\n\u001b[0;32m   1409\u001b[0m         \u001b[39m\"\u001b[39m\u001b[39mCould not assemble any primary \u001b[39m\u001b[39m\"\u001b[39m\n\u001b[0;32m   1410\u001b[0m         \u001b[39m\"\u001b[39m\u001b[39mkeys for locally mapped table \u001b[39m\u001b[39m'\u001b[39m\u001b[39m%s\u001b[39;00m\u001b[39m'\u001b[39m\u001b[39m - \u001b[39m\u001b[39m\"\u001b[39m\n\u001b[0;32m   1411\u001b[0m         \u001b[39m\"\u001b[39m\u001b[39mno rows will be persisted in this Table.\u001b[39m\u001b[39m\"\u001b[39m\n\u001b[0;32m   1412\u001b[0m         \u001b[39m%\u001b[39m \u001b[39mself\u001b[39m\u001b[39m.\u001b[39mlocal_table\u001b[39m.\u001b[39mdescription\n\u001b[0;32m   1413\u001b[0m     )\n",
      "\u001b[1;31mArgumentError\u001b[0m: Mapper mapped class APILog->log_records could not assemble any primary key columns for mapped table 'log_records'"
     ]
    }
   ],
   "source": [
    "#| export\n",
    "class APILog(Base):\n",
    "    __tablename__ = \"log_records\"\n",
    "    id = Column(Integer, primary_key=True, autoincrement=True)\n",
    "    task_id = Column(Integer, ForeignKey(f\"{APITask.__tablename__}.task_id\"))\n",
    "    time = Column(DateTime)\n",
    "    type = Column(String(64))\n",
    "    subtask = Column(String(64))\n",
    "    prompt = Column(Text, nullable=True)\n",
    "    token = Column(Text, nullable=True)"
   ]
  },
  {
   "cell_type": "code",
   "execution_count": null,
   "metadata": {},
   "outputs": [],
   "source": [
    "import nbdev; nbdev.nbdev_export()"
   ]
  }
 ],
 "metadata": {
  "kernelspec": {
   "display_name": "python3",
   "language": "python",
   "name": "python3"
  }
 },
 "nbformat": 4,
 "nbformat_minor": 2
}
