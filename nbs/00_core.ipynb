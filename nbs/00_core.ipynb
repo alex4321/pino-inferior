{
 "cells": [
  {
   "cell_type": "markdown",
   "metadata": {},
   "source": [
    "# core\n",
    "\n",
    "> Fill in a module description here"
   ]
  },
  {
   "cell_type": "code",
   "execution_count": 1,
   "metadata": {},
   "outputs": [],
   "source": [
    "#| default_exp core"
   ]
  },
  {
   "cell_type": "code",
   "execution_count": 2,
   "metadata": {},
   "outputs": [],
   "source": [
    "#| export\n",
    "import langchain.vectorstores\n",
    "import json"
   ]
  },
  {
   "cell_type": "code",
   "execution_count": 3,
   "metadata": {},
   "outputs": [],
   "source": [
    "#| export\n",
    "import nest_asyncio\n",
    "\n",
    "nest_asyncio.apply()"
   ]
  },
  {
   "cell_type": "code",
   "execution_count": 4,
   "metadata": {},
   "outputs": [],
   "source": [
    "#| export\n",
    "import os\n",
    "from dotenv import load_dotenv"
   ]
  },
  {
   "cell_type": "code",
   "execution_count": 5,
   "metadata": {},
   "outputs": [],
   "source": [
    "#| export\n",
    "try:\n",
    "    __file__\n",
    "    _IS_JUPYTER = False\n",
    "except NameError:\n",
    "    _IS_JUPYTER = True"
   ]
  },
  {
   "cell_type": "code",
   "execution_count": 6,
   "metadata": {},
   "outputs": [
    {
     "data": {
      "text/plain": [
       "'/mnt/hdd/Projects/pino-inferior1/pino_inferior'"
      ]
     },
     "execution_count": 6,
     "metadata": {},
     "output_type": "execute_result"
    }
   ],
   "source": [
    "#| export\n",
    "if _IS_JUPYTER:\n",
    "    PACKAGE_DIR = os.path.join(os.getcwd(), \"..\", \"pino_inferior\")\n",
    "else:\n",
    "    PACKAGE_DIR = os.path.dirname(__file__)\n",
    "PACKAGE_DIR = os.path.abspath(PACKAGE_DIR)\n",
    "PACKAGE_DIR"
   ]
  },
  {
   "cell_type": "code",
   "execution_count": 7,
   "metadata": {},
   "outputs": [
    {
     "data": {
      "text/plain": [
       "'/mnt/hdd/Projects/pino-inferior1/pino_inferior/data'"
      ]
     },
     "execution_count": 7,
     "metadata": {},
     "output_type": "execute_result"
    }
   ],
   "source": [
    "#| export\n",
    "DATA_DIR = os.path.join(PACKAGE_DIR, \"data\")\n",
    "DATA_DIR"
   ]
  },
  {
   "cell_type": "code",
   "execution_count": 8,
   "metadata": {},
   "outputs": [
    {
     "data": {
      "text/plain": [
       "'/mnt/hdd/Projects/pino-inferior1/pino_inferior/prompts'"
      ]
     },
     "execution_count": 8,
     "metadata": {},
     "output_type": "execute_result"
    }
   ],
   "source": [
    "#| export\n",
    "PROMPTS_DIR = os.path.join(PACKAGE_DIR, \"prompts\")\n",
    "PROMPTS_DIR"
   ]
  },
  {
   "cell_type": "code",
   "execution_count": 9,
   "metadata": {},
   "outputs": [],
   "source": [
    "#| export\n",
    "def _load_dotenv():\n",
    "    path = os.getcwd()\n",
    "    while path != os.path.dirname(path):\n",
    "        dotenv_file = os.path.join(path, \".env\")\n",
    "        if os.path.exists(dotenv_file):\n",
    "            load_dotenv(dotenv_file)\n",
    "            return\n",
    "        path = os.path.dirname(path)\n",
    "    raise ValueError(\"Can't load .env file\")\n",
    "\n",
    "_load_dotenv()"
   ]
  },
  {
   "cell_type": "code",
   "execution_count": 10,
   "metadata": {},
   "outputs": [],
   "source": [
    "#| export\n",
    "SQLALCHEMY_CONNECTION_STRING = os.environ[\"SQLALCHEMY_CONNECTION\"]\n",
    "OPENAI_API_KEY = os.environ[\"OPENAI_API_KEY\"]"
   ]
  },
  {
   "cell_type": "code",
   "execution_count": 11,
   "metadata": {},
   "outputs": [],
   "source": [
    "#| export\n",
    "VECTOR_DB_NAME = os.environ[\"VECTOR_DB\"]\n",
    "VECTOR_DB = getattr(langchain.vectorstores, VECTOR_DB_NAME)\n",
    "VECTOR_DB_PARAMS = json.loads(os.environ[\"VECTOR_DB_PARAMS\"])"
   ]
  },
  {
   "cell_type": "code",
   "execution_count": 12,
   "metadata": {},
   "outputs": [],
   "source": [
    "#| export\n",
    "MEMORY_PARAMS = json.loads(os.environ[\"MEMORY_PARAMS\"])"
   ]
  },
  {
   "cell_type": "code",
   "execution_count": 13,
   "metadata": {},
   "outputs": [
    {
     "name": "stderr",
     "output_type": "stream",
     "text": [
      "/home/alex4321/mambaforge/envs/pino-inferior/lib/python3.11/site-packages/nbdev/export.py:54: UserWarning: Notebook '/mnt/hdd/Projects/pino-inferior1/nbs/07_agent.ipynb' uses `#|export` without `#|default_exp` cell.\n",
      "Note nbdev2 no longer supports nbdev1 syntax. Run `nbdev_migrate` to upgrade.\n",
      "See https://nbdev.fast.ai/getting_started.html for more information.\n",
      "  warn(f\"Notebook '{nbname}' uses `#|export` without `#|default_exp` cell.\\n\"\n"
     ]
    }
   ],
   "source": [
    "import nbdev; nbdev.nbdev_export()"
   ]
  }
 ],
 "metadata": {
  "kernelspec": {
   "display_name": "python3",
   "language": "python",
   "name": "python3"
  },
  "language_info": {
   "codemirror_mode": {
    "name": "ipython",
    "version": 3
   },
   "file_extension": ".py",
   "mimetype": "text/x-python",
   "name": "python",
   "nbconvert_exporter": "python",
   "pygments_lexer": "ipython3",
   "version": "3.11.6"
  }
 },
 "nbformat": 4,
 "nbformat_minor": 4
}
