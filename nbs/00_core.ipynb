{
 "cells": [
  {
   "cell_type": "markdown",
   "metadata": {},
   "source": [
    "# core\n",
    "\n",
    "> Fill in a module description here"
   ]
  },
  {
   "cell_type": "code",
   "execution_count": null,
   "metadata": {},
   "outputs": [],
   "source": [
    "#| default_exp core"
   ]
  },
  {
   "cell_type": "code",
   "execution_count": null,
   "metadata": {},
   "outputs": [],
   "source": [
    "#| export\n",
    "import langchain.vectorstores\n",
    "import json"
   ]
  },
  {
   "cell_type": "code",
   "execution_count": null,
   "metadata": {},
   "outputs": [],
   "source": [
    "#| export\n",
    "import nest_asyncio\n",
    "\n",
    "nest_asyncio.apply()"
   ]
  },
  {
   "cell_type": "code",
   "execution_count": null,
   "metadata": {},
   "outputs": [],
   "source": [
    "#| export\n",
    "import os\n",
    "from dotenv import load_dotenv"
   ]
  },
  {
   "cell_type": "code",
   "execution_count": null,
   "metadata": {},
   "outputs": [],
   "source": [
    "#| export\n",
    "try:\n",
    "    __file__\n",
    "    _IS_JUPYTER = False\n",
    "except NameError:\n",
    "    _IS_JUPYTER = True"
   ]
  },
  {
   "cell_type": "code",
   "execution_count": null,
   "metadata": {},
   "outputs": [
    {
     "data": {
      "text/plain": [
       "'f:\\\\Projects\\\\pino-inferior\\\\pino_inferior'"
      ]
     },
     "execution_count": null,
     "metadata": {},
     "output_type": "execute_result"
    }
   ],
   "source": [
    "#| export\n",
    "if _IS_JUPYTER:\n",
    "    PACKAGE_DIR = os.path.join(os.getcwd(), \"..\", \"pino_inferior\")\n",
    "else:\n",
    "    PACKAGE_DIR = os.path.dirname(__file__)\n",
    "PACKAGE_DIR = os.path.abspath(PACKAGE_DIR)\n",
    "PACKAGE_DIR"
   ]
  },
  {
   "cell_type": "code",
   "execution_count": null,
   "metadata": {},
   "outputs": [
    {
     "data": {
      "text/plain": [
       "'f:\\\\Projects\\\\pino-inferior\\\\pino_inferior\\\\data'"
      ]
     },
     "execution_count": null,
     "metadata": {},
     "output_type": "execute_result"
    }
   ],
   "source": [
    "#| export\n",
    "DATA_DIR = os.path.join(PACKAGE_DIR, \"data\")\n",
    "DATA_DIR"
   ]
  },
  {
   "cell_type": "code",
   "execution_count": null,
   "metadata": {},
   "outputs": [
    {
     "data": {
      "text/plain": [
       "'f:\\\\Projects\\\\pino-inferior\\\\pino_inferior\\\\prompts'"
      ]
     },
     "execution_count": null,
     "metadata": {},
     "output_type": "execute_result"
    }
   ],
   "source": [
    "#| export\n",
    "PROMPTS_DIR = os.path.join(PACKAGE_DIR, \"prompts\")\n",
    "PROMPTS_DIR"
   ]
  },
  {
   "cell_type": "code",
   "execution_count": null,
   "metadata": {},
   "outputs": [],
   "source": [
    "#| export\n",
    "def _load_dotenv():\n",
    "    path = os.getcwd()\n",
    "    while path != os.path.dirname(path):\n",
    "        dotenv_file = os.path.join(path, \".env\")\n",
    "        if os.path.exists(dotenv_file):\n",
    "            load_dotenv(dotenv_file)\n",
    "            return\n",
    "        path = os.path.dirname(path)\n",
    "    raise ValueError(\"Can't load .env file\")\n",
    "\n",
    "_load_dotenv()"
   ]
  },
  {
   "cell_type": "code",
   "execution_count": null,
   "metadata": {},
   "outputs": [],
   "source": [
    "#| export\n",
    "OPENAI_AGENT_MODEL = os.environ[\"OPENAI_AGENT_MODEL\"]\n",
    "OPENAI_FALLACY_MODEL = os.environ[\"OPENAI_FALLACY_MODEL\"]\n",
    "OPENAI_CONTEXT_MODEL = os.environ[\"OPENAI_CONTEXT_MODEL\"]"
   ]
  },
  {
   "cell_type": "code",
   "execution_count": null,
   "metadata": {},
   "outputs": [],
   "source": [
    "#| export\n",
    "SQLALCHEMY_CONNECTION_STRING = os.environ[\"SQLALCHEMY_CONNECTION\"]\n",
    "SQLALCHEMY_SYNC_CONNECTION_STRING = os.environ[\"SQLALCHEMY_SYNC_CONNECTION\"]\n",
    "OPENAI_API_KEY = os.environ[\"OPENAI_API_KEY\"]"
   ]
  },
  {
   "cell_type": "code",
   "execution_count": null,
   "metadata": {},
   "outputs": [],
   "source": [
    "#| export\n",
    "VECTOR_DB_NAME = os.environ[\"VECTOR_DB\"]\n",
    "VECTOR_DB = getattr(langchain.vectorstores, VECTOR_DB_NAME)\n",
    "VECTOR_DB_PARAMS = json.loads(os.environ[\"VECTOR_DB_PARAMS\"])"
   ]
  },
  {
   "cell_type": "code",
   "execution_count": null,
   "metadata": {},
   "outputs": [],
   "source": [
    "#| export\n",
    "MEMORY_PARAMS = json.loads(os.environ[\"MEMORY_PARAMS\"])"
   ]
  },
  {
   "cell_type": "code",
   "execution_count": null,
   "metadata": {},
   "outputs": [],
   "source": [
    "#| export\n",
    "OPENAI_MEMORY_EMBEDDER_MODEL = os.environ[\"OPENAI_MEMORY_EMBEDDER_MODEL\"]"
   ]
  },
  {
   "cell_type": "code",
   "execution_count": null,
   "metadata": {},
   "outputs": [],
   "source": [
    "#| export\n",
    "SERVER_OPENAI_API_KEYS = os.environ[\"SERVER_OPENAI_API_KEYS\"].split(\";\")\n",
    "SERVER_MAX_FALLACIES_LENGTH = int(os.environ[\"SERVER_MAX_FALLACIES_LENGTH\"])\n",
    "SERVER_MAX_THREAD_LENGTH = int(os.environ[\"SERVER_MAX_THREAD_LENGTH\"])\n",
    "SERVER_MAX_CONTEXT_LENGTH = int(os.environ[\"SERVER_MAX_CONTEXT_LENGTH\"])\n",
    "SERVER_AGENT_MAX_ITERATIONS = int(os.environ[\"SERVER_AGENT_MAX_ITERATIONS\"])\n",
    "SERVER_MAX_CONTEXT_EXTRACTOR_POST_LENGTH = int(os.environ[\"SERVER_MAX_CONTEXT_EXTRACTOR_POST_LENGTH\"])\n",
    "SERVER_HOST = os.environ[\"SERVER_HOST\"]\n",
    "SERVER_PORT = int(os.environ[\"SERVER_PORT\"])"
   ]
  },
  {
   "cell_type": "code",
   "execution_count": null,
   "metadata": {},
   "outputs": [],
   "source": [
    "#| export\n",
    "def read_file(fname: str) -> str:\n",
    "    with open(fname, \"r\", encoding=\"utf-8\") as src:\n",
    "        return src.read()"
   ]
  },
  {
   "cell_type": "code",
   "execution_count": null,
   "metadata": {},
   "outputs": [],
   "source": [
    "import nbdev; nbdev.nbdev_export()"
   ]
  }
 ],
 "metadata": {
  "kernelspec": {
   "display_name": "python3",
   "language": "python",
   "name": "python3"
  }
 },
 "nbformat": 4,
 "nbformat_minor": 4
}
