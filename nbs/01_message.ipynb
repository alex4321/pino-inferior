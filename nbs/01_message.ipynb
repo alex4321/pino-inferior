{
 "cells": [
  {
   "cell_type": "code",
   "execution_count": null,
   "metadata": {},
   "outputs": [],
   "source": [
    "#| default_exp message"
   ]
  },
  {
   "cell_type": "markdown",
   "metadata": {},
   "source": [
    "# Message representation module"
   ]
  },
  {
   "cell_type": "markdown",
   "metadata": {},
   "source": [
    "> This module contains message representation. I mean thread message."
   ]
  },
  {
   "cell_type": "markdown",
   "metadata": {},
   "source": [
    "## Implementation"
   ]
  },
  {
   "cell_type": "code",
   "execution_count": null,
   "metadata": {},
   "outputs": [],
   "source": [
    "#| export\n",
    "from datetime import datetime\n",
    "from dataclasses import dataclass\n",
    "import pandas as pd"
   ]
  },
  {
   "cell_type": "code",
   "execution_count": null,
   "metadata": {},
   "outputs": [],
   "source": [
    "#| export\n",
    "@dataclass\n",
    "class Message:\n",
    "    author: str # User name/nickname\n",
    "    time: datetime # Message posting datetime\n",
    "    content: str # Message text\n",
    "\n",
    "    @property\n",
    "    def time_string(self) -> str: # Convert datetime to string\n",
    "        return self.time.strftime(\"%d %b %Y %H:%M\")\n",
    "\n",
    "    def __str__(self) -> str: # Convert message to string\n",
    "        return f\"@{self.author.strip()} ({self.time_string}):\\n{self.content.strip()}\"\n",
    "    \n",
    "    def to_dict(self) -> dict: # Convert message to dict\n",
    "        return {\n",
    "            \"author\": self.author,\n",
    "            \"time\": self.time_string,\n",
    "            \"content\": self.content,\n",
    "        }\n",
    "    \n",
    "    @staticmethod\n",
    "    def from_dict(data: dict) -> dict:\n",
    "        return Message(\n",
    "            data[\"author\"],\n",
    "            pd.to_datetime(data[\"time\"]),\n",
    "            data[\"content\"],\n",
    "        )"
   ]
  },
  {
   "cell_type": "markdown",
   "metadata": {},
   "source": [
    "## Test"
   ]
  },
  {
   "cell_type": "markdown",
   "metadata": {},
   "source": [
    "Let's construct message example."
   ]
  },
  {
   "cell_type": "code",
   "execution_count": null,
   "metadata": {},
   "outputs": [],
   "source": [
    "message = Message(\"alex4321\", datetime.now(), \"TEST\")"
   ]
  },
  {
   "cell_type": "code",
   "execution_count": null,
   "metadata": {},
   "outputs": [
    {
     "name": "stdout",
     "output_type": "stream",
     "text": [
      "@alex4321 (03 Nov 2023 23:42):\n",
      "TEST\n"
     ]
    }
   ],
   "source": [
    "print(str(message))"
   ]
  },
  {
   "cell_type": "code",
   "execution_count": null,
   "metadata": {},
   "outputs": [
    {
     "data": {
      "text/plain": [
       "{'author': 'alex4321', 'time': '03 Nov 2023 23:42', 'content': 'TEST'}"
      ]
     },
     "execution_count": null,
     "metadata": {},
     "output_type": "execute_result"
    }
   ],
   "source": [
    "message.to_dict()"
   ]
  },
  {
   "cell_type": "code",
   "execution_count": null,
   "metadata": {},
   "outputs": [
    {
     "name": "stdout",
     "output_type": "stream",
     "text": [
      "@alex4321 (03 Nov 2023 23:42):\n",
      "TEST\n"
     ]
    }
   ],
   "source": [
    "print(str(Message.from_dict(message.to_dict())))"
   ]
  },
  {
   "cell_type": "code",
   "execution_count": null,
   "metadata": {},
   "outputs": [],
   "source": [
    "#| hide\n",
    "import nbdev; nbdev.nbdev_export()"
   ]
  }
 ],
 "metadata": {
  "kernelspec": {
   "display_name": "python3",
   "language": "python",
   "name": "python3"
  }
 },
 "nbformat": 4,
 "nbformat_minor": 2
}
